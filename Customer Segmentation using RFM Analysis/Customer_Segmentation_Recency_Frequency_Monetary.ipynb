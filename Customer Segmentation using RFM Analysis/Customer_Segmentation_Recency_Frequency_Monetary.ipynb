{
  "cells": [
    {
      "cell_type": "markdown",
      "metadata": {
        "id": "view-in-github",
        "colab_type": "text"
      },
      "source": [
        "<a href=\"https://colab.research.google.com/github/sinhaanupamindia/Projects/blob/main/Customer_Segmentation_Recency_Frequency_Monetary.ipynb\" target=\"_parent\"><img src=\"https://colab.research.google.com/assets/colab-badge.svg\" alt=\"Open In Colab\"/></a>"
      ]
    },
    {
      "cell_type": "markdown",
      "id": "5e33a79e",
      "metadata": {
        "id": "5e33a79e"
      },
      "source": [
        "#                                             # Customer RFM Analysis "
      ]
    },
    {
      "cell_type": "code",
      "execution_count": null,
      "id": "ec5ab75b",
      "metadata": {
        "id": "ec5ab75b"
      },
      "outputs": [],
      "source": [
        "import pandas as pd\n",
        "import numpy as np \n",
        "import time\n",
        "import datetime as dt\n",
        "\n",
        "import re       #Regular expression"
      ]
    },
    {
      "cell_type": "code",
      "execution_count": null,
      "id": "24f808aa",
      "metadata": {
        "id": "24f808aa"
      },
      "outputs": [],
      "source": [
        "# import required libraries for clustering\n",
        "import sklearn\n",
        "from sklearn.preprocessing import StandardScaler\n",
        "from sklearn.cluster import KMeans\n",
        "from sklearn.manifold import TSNE\n",
        "from sklearn.metrics import silhouette_score"
      ]
    },
    {
      "cell_type": "code",
      "execution_count": null,
      "id": "1373a566",
      "metadata": {
        "id": "1373a566"
      },
      "outputs": [],
      "source": [
        "import matplotlib.pyplot as plt\n",
        "import matplotlib.dates as mdates\n",
        "import seaborn as sns\n",
        "sns.set_style('whitegrid')\n",
        "\n",
        "start = time.time()"
      ]
    },
    {
      "cell_type": "code",
      "execution_count": null,
      "id": "3bcfff80",
      "metadata": {
        "id": "3bcfff80",
        "outputId": "7fe24028-7f11-49fc-d22b-c48c66ed0bb0"
      },
      "outputs": [
        {
          "data": {
            "text/html": [
              "<div>\n",
              "<style scoped>\n",
              "    .dataframe tbody tr th:only-of-type {\n",
              "        vertical-align: middle;\n",
              "    }\n",
              "\n",
              "    .dataframe tbody tr th {\n",
              "        vertical-align: top;\n",
              "    }\n",
              "\n",
              "    .dataframe thead th {\n",
              "        text-align: right;\n",
              "    }\n",
              "</style>\n",
              "<table border=\"1\" class=\"dataframe\">\n",
              "  <thead>\n",
              "    <tr style=\"text-align: right;\">\n",
              "      <th></th>\n",
              "      <th>InvoiceNo</th>\n",
              "      <th>StockCode</th>\n",
              "      <th>Description</th>\n",
              "      <th>Quantity</th>\n",
              "      <th>InvoiceDate</th>\n",
              "      <th>UnitPrice</th>\n",
              "      <th>CustomerID</th>\n",
              "      <th>Country</th>\n",
              "    </tr>\n",
              "  </thead>\n",
              "  <tbody>\n",
              "    <tr>\n",
              "      <th>0</th>\n",
              "      <td>536365</td>\n",
              "      <td>85123A</td>\n",
              "      <td>WHITE HANGING HEART T-LIGHT HOLDER</td>\n",
              "      <td>6</td>\n",
              "      <td>12/1/2010 8:26</td>\n",
              "      <td>2.55</td>\n",
              "      <td>17850</td>\n",
              "      <td>United Kingdom</td>\n",
              "    </tr>\n",
              "    <tr>\n",
              "      <th>1</th>\n",
              "      <td>536365</td>\n",
              "      <td>71053</td>\n",
              "      <td>WHITE METAL LANTERN</td>\n",
              "      <td>6</td>\n",
              "      <td>12/1/2010 8:26</td>\n",
              "      <td>3.39</td>\n",
              "      <td>17850</td>\n",
              "      <td>United Kingdom</td>\n",
              "    </tr>\n",
              "    <tr>\n",
              "      <th>2</th>\n",
              "      <td>536365</td>\n",
              "      <td>84406B</td>\n",
              "      <td>CREAM CUPID HEARTS COAT HANGER</td>\n",
              "      <td>8</td>\n",
              "      <td>12/1/2010 8:26</td>\n",
              "      <td>2.75</td>\n",
              "      <td>17850</td>\n",
              "      <td>United Kingdom</td>\n",
              "    </tr>\n",
              "    <tr>\n",
              "      <th>3</th>\n",
              "      <td>536365</td>\n",
              "      <td>84029G</td>\n",
              "      <td>KNITTED UNION FLAG HOT WATER BOTTLE</td>\n",
              "      <td>6</td>\n",
              "      <td>12/1/2010 8:26</td>\n",
              "      <td>3.39</td>\n",
              "      <td>17850</td>\n",
              "      <td>United Kingdom</td>\n",
              "    </tr>\n",
              "    <tr>\n",
              "      <th>4</th>\n",
              "      <td>536365</td>\n",
              "      <td>84029E</td>\n",
              "      <td>RED WOOLLY HOTTIE WHITE HEART.</td>\n",
              "      <td>6</td>\n",
              "      <td>12/1/2010 8:26</td>\n",
              "      <td>3.39</td>\n",
              "      <td>17850</td>\n",
              "      <td>United Kingdom</td>\n",
              "    </tr>\n",
              "  </tbody>\n",
              "</table>\n",
              "</div>"
            ],
            "text/plain": [
              "  InvoiceNo StockCode                          Description  Quantity  \\\n",
              "0    536365    85123A   WHITE HANGING HEART T-LIGHT HOLDER         6   \n",
              "1    536365     71053                  WHITE METAL LANTERN         6   \n",
              "2    536365    84406B       CREAM CUPID HEARTS COAT HANGER         8   \n",
              "3    536365    84029G  KNITTED UNION FLAG HOT WATER BOTTLE         6   \n",
              "4    536365    84029E       RED WOOLLY HOTTIE WHITE HEART.         6   \n",
              "\n",
              "      InvoiceDate  UnitPrice CustomerID         Country  \n",
              "0  12/1/2010 8:26       2.55      17850  United Kingdom  \n",
              "1  12/1/2010 8:26       3.39      17850  United Kingdom  \n",
              "2  12/1/2010 8:26       2.75      17850  United Kingdom  \n",
              "3  12/1/2010 8:26       3.39      17850  United Kingdom  \n",
              "4  12/1/2010 8:26       3.39      17850  United Kingdom  "
            ]
          },
          "execution_count": 186,
          "metadata": {},
          "output_type": "execute_result"
        }
      ],
      "source": [
        "df = pd.read_csv('D:/ANUPAM/study/project/Customer Segmentation- clustering/customer.csv', encoding = 'unicode_escape', dtype = {'CustomerID' : str})\n",
        "\n",
        "# The first five rows\n",
        "df.head()"
      ]
    },
    {
      "cell_type": "code",
      "execution_count": null,
      "id": "3a8c2085",
      "metadata": {
        "id": "3a8c2085",
        "outputId": "a411d7f2-773e-4ce2-9c0a-1d087a92e26e"
      },
      "outputs": [
        {
          "name": "stdout",
          "output_type": "stream",
          "text": [
            "<class 'pandas.core.frame.DataFrame'>\n",
            "RangeIndex: 541909 entries, 0 to 541908\n",
            "Data columns (total 8 columns):\n",
            " #   Column       Non-Null Count   Dtype  \n",
            "---  ------       --------------   -----  \n",
            " 0   InvoiceNo    541909 non-null  object \n",
            " 1   StockCode    541909 non-null  object \n",
            " 2   Description  540455 non-null  object \n",
            " 3   Quantity     541909 non-null  int64  \n",
            " 4   InvoiceDate  541909 non-null  object \n",
            " 5   UnitPrice    541909 non-null  float64\n",
            " 6   CustomerID   406829 non-null  object \n",
            " 7   Country      541909 non-null  object \n",
            "dtypes: float64(1), int64(1), object(6)\n",
            "memory usage: 33.1+ MB\n"
          ]
        }
      ],
      "source": [
        "df.info()"
      ]
    },
    {
      "cell_type": "code",
      "execution_count": null,
      "id": "80372555",
      "metadata": {
        "id": "80372555",
        "outputId": "5e220e71-828a-4799-e781-06f7219957a7"
      },
      "outputs": [
        {
          "data": {
            "text/plain": [
              "(541909, 8)"
            ]
          },
          "execution_count": 188,
          "metadata": {},
          "output_type": "execute_result"
        }
      ],
      "source": [
        "df.shape"
      ]
    },
    {
      "cell_type": "code",
      "execution_count": null,
      "id": "d6d0dd29",
      "metadata": {
        "id": "d6d0dd29",
        "outputId": "64b96740-f680-4cd7-8d65-78f46bb60daf"
      },
      "outputs": [
        {
          "data": {
            "text/html": [
              "<div>\n",
              "<style scoped>\n",
              "    .dataframe tbody tr th:only-of-type {\n",
              "        vertical-align: middle;\n",
              "    }\n",
              "\n",
              "    .dataframe tbody tr th {\n",
              "        vertical-align: top;\n",
              "    }\n",
              "\n",
              "    .dataframe thead th {\n",
              "        text-align: right;\n",
              "    }\n",
              "</style>\n",
              "<table border=\"1\" class=\"dataframe\">\n",
              "  <thead>\n",
              "    <tr style=\"text-align: right;\">\n",
              "      <th></th>\n",
              "      <th>InvoiceNo</th>\n",
              "      <th>StockCode</th>\n",
              "      <th>Description</th>\n",
              "      <th>Quantity</th>\n",
              "      <th>InvoiceDate</th>\n",
              "      <th>UnitPrice</th>\n",
              "      <th>CustomerID</th>\n",
              "      <th>Country</th>\n",
              "    </tr>\n",
              "  </thead>\n",
              "  <tbody>\n",
              "    <tr>\n",
              "      <th>541904</th>\n",
              "      <td>581587</td>\n",
              "      <td>22613</td>\n",
              "      <td>PACK OF 20 SPACEBOY NAPKINS</td>\n",
              "      <td>12</td>\n",
              "      <td>12/9/2011 12:50</td>\n",
              "      <td>0.85</td>\n",
              "      <td>12680</td>\n",
              "      <td>France</td>\n",
              "    </tr>\n",
              "    <tr>\n",
              "      <th>541905</th>\n",
              "      <td>581587</td>\n",
              "      <td>22899</td>\n",
              "      <td>CHILDREN'S APRON DOLLY GIRL</td>\n",
              "      <td>6</td>\n",
              "      <td>12/9/2011 12:50</td>\n",
              "      <td>2.10</td>\n",
              "      <td>12680</td>\n",
              "      <td>France</td>\n",
              "    </tr>\n",
              "    <tr>\n",
              "      <th>541906</th>\n",
              "      <td>581587</td>\n",
              "      <td>23254</td>\n",
              "      <td>CHILDRENS CUTLERY DOLLY GIRL</td>\n",
              "      <td>4</td>\n",
              "      <td>12/9/2011 12:50</td>\n",
              "      <td>4.15</td>\n",
              "      <td>12680</td>\n",
              "      <td>France</td>\n",
              "    </tr>\n",
              "    <tr>\n",
              "      <th>541907</th>\n",
              "      <td>581587</td>\n",
              "      <td>23255</td>\n",
              "      <td>CHILDRENS CUTLERY CIRCUS PARADE</td>\n",
              "      <td>4</td>\n",
              "      <td>12/9/2011 12:50</td>\n",
              "      <td>4.15</td>\n",
              "      <td>12680</td>\n",
              "      <td>France</td>\n",
              "    </tr>\n",
              "    <tr>\n",
              "      <th>541908</th>\n",
              "      <td>581587</td>\n",
              "      <td>22138</td>\n",
              "      <td>BAKING SET 9 PIECE RETROSPOT</td>\n",
              "      <td>3</td>\n",
              "      <td>12/9/2011 12:50</td>\n",
              "      <td>4.95</td>\n",
              "      <td>12680</td>\n",
              "      <td>France</td>\n",
              "    </tr>\n",
              "  </tbody>\n",
              "</table>\n",
              "</div>"
            ],
            "text/plain": [
              "       InvoiceNo StockCode                      Description  Quantity  \\\n",
              "541904    581587     22613      PACK OF 20 SPACEBOY NAPKINS        12   \n",
              "541905    581587     22899     CHILDREN'S APRON DOLLY GIRL          6   \n",
              "541906    581587     23254    CHILDRENS CUTLERY DOLLY GIRL          4   \n",
              "541907    581587     23255  CHILDRENS CUTLERY CIRCUS PARADE         4   \n",
              "541908    581587     22138    BAKING SET 9 PIECE RETROSPOT          3   \n",
              "\n",
              "            InvoiceDate  UnitPrice CustomerID Country  \n",
              "541904  12/9/2011 12:50       0.85      12680  France  \n",
              "541905  12/9/2011 12:50       2.10      12680  France  \n",
              "541906  12/9/2011 12:50       4.15      12680  France  \n",
              "541907  12/9/2011 12:50       4.15      12680  France  \n",
              "541908  12/9/2011 12:50       4.95      12680  France  "
            ]
          },
          "execution_count": 189,
          "metadata": {},
          "output_type": "execute_result"
        }
      ],
      "source": [
        "# The last five rows \n",
        "\n",
        "df.tail()"
      ]
    },
    {
      "cell_type": "code",
      "execution_count": null,
      "id": "cc976cea",
      "metadata": {
        "id": "cc976cea",
        "outputId": "f2810fc4-9ec6-41ca-f7d4-73e511134b02"
      },
      "outputs": [
        {
          "data": {
            "text/plain": [
              "Index(['InvoiceNo', 'StockCode', 'Description', 'Quantity', 'InvoiceDate',\n",
              "       'UnitPrice', 'CustomerID', 'Country'],\n",
              "      dtype='object')"
            ]
          },
          "execution_count": 190,
          "metadata": {},
          "output_type": "execute_result"
        }
      ],
      "source": [
        "df.columns"
      ]
    },
    {
      "cell_type": "markdown",
      "id": "f4ed42eb",
      "metadata": {
        "id": "f4ed42eb"
      },
      "source": [
        "# Data Explorations:\n",
        "'''Columns Description\n",
        "InvoiceNo : Unique ID for every time a consumer visits the store\n",
        "StockCode: Unique ID for a product\n",
        "Description : Description of the product\n",
        "Quantity : No of units bought\n",
        "InvoiceDate : Date and time of purchase\n",
        "Unit Price : Price for 1 unit of the product\n",
        "CustomerId : Unique ID for each customer\n",
        "Country : Country where transaction happened'''"
      ]
    },
    {
      "cell_type": "code",
      "execution_count": null,
      "id": "55aab447",
      "metadata": {
        "id": "55aab447"
      },
      "outputs": [],
      "source": [
        "#changing the names of columns for ease of readability.\n",
        "\n",
        "df.rename(index = str, columns = {'InvoiceNo': 'invoiceno',\n",
        "                                    'StockCode': 'stockcode', \n",
        "                                    'Description' : 'description',\n",
        "                                    'Quantity': 'quantity',\n",
        "                                    'InvoiceDate' : 'invoicedate',\n",
        "                                    'UnitPrice' : 'unitprice', \n",
        "                                    'CustomerID': 'customerid', \n",
        "                                    'Country' : 'country' }, inplace = True)"
      ]
    },
    {
      "cell_type": "code",
      "execution_count": null,
      "id": "e08dc247",
      "metadata": {
        "id": "e08dc247",
        "outputId": "ec31df0d-9204-43ef-a8d6-553afea95dc9"
      },
      "outputs": [
        {
          "name": "stdout",
          "output_type": "stream",
          "text": [
            "The shape of our dataset before we make any adjustment is (541909, 8)\n"
          ]
        }
      ],
      "source": [
        "# The data has 541909 entries and 8 variables before we make any adjustment\n",
        "# After loading data set, we are trying to get general information about our dataset.\n",
        "\n",
        "print('The shape of our dataset before we make any adjustment is', df.shape)"
      ]
    },
    {
      "cell_type": "code",
      "execution_count": null,
      "id": "b3381225",
      "metadata": {
        "id": "b3381225",
        "outputId": "baad08f8-8d59-4f2f-f383-30376a8d2460"
      },
      "outputs": [
        {
          "name": "stdout",
          "output_type": "stream",
          "text": [
            "Some info about our dataset is below: \n",
            "\n",
            "<class 'pandas.core.frame.DataFrame'>\n",
            "Index: 541909 entries, 0 to 541908\n",
            "Data columns (total 8 columns):\n",
            " #   Column       Non-Null Count   Dtype  \n",
            "---  ------       --------------   -----  \n",
            " 0   invoiceno    541909 non-null  object \n",
            " 1   stockcode    541909 non-null  object \n",
            " 2   description  540455 non-null  object \n",
            " 3   quantity     541909 non-null  int64  \n",
            " 4   invoicedate  541909 non-null  object \n",
            " 5   unitprice    541909 non-null  float64\n",
            " 6   customerid   406829 non-null  object \n",
            " 7   country      541909 non-null  object \n",
            "dtypes: float64(1), int64(1), object(6)\n",
            "memory usage: 37.2+ MB\n"
          ]
        }
      ],
      "source": [
        "print('Some info about our dataset is below: \\n')\n",
        "\n",
        "df.info()"
      ]
    },
    {
      "cell_type": "markdown",
      "id": "ffe9958f",
      "metadata": {
        "id": "ffe9958f"
      },
      "source": [
        "# Step 2: Data Cleaning"
      ]
    },
    {
      "cell_type": "markdown",
      "id": "9afb505e",
      "metadata": {
        "id": "9afb505e"
      },
      "source": [
        "### Dealing with the missing data"
      ]
    },
    {
      "cell_type": "code",
      "execution_count": null,
      "id": "5ad41a28",
      "metadata": {
        "id": "5ad41a28",
        "outputId": "61e27262-ef26-48fc-944e-c36cdf734c38"
      },
      "outputs": [
        {
          "data": {
            "text/plain": [
              "True"
            ]
          },
          "execution_count": 194,
          "metadata": {},
          "output_type": "execute_result"
        }
      ],
      "source": [
        "# One way in order to check for missing values \n",
        "# Unfortunately we have\n",
        "\n",
        "df.isnull().values.any()"
      ]
    },
    {
      "cell_type": "code",
      "execution_count": null,
      "id": "bab1466b",
      "metadata": {
        "id": "bab1466b",
        "outputId": "34fe8ed9-f1eb-43ba-9451-ec03e8b49865"
      },
      "outputs": [
        {
          "name": "stdout",
          "output_type": "stream",
          "text": [
            "Here we can view the missing data in our dataset: \n",
            "\n"
          ]
        },
        {
          "data": {
            "text/plain": [
              "invoiceno           0\n",
              "stockcode           0\n",
              "description      1454\n",
              "quantity            0\n",
              "invoicedate         0\n",
              "unitprice           0\n",
              "customerid     135080\n",
              "country             0\n",
              "dtype: int64"
            ]
          },
          "execution_count": 195,
          "metadata": {},
          "output_type": "execute_result"
        }
      ],
      "source": [
        "# As we can see we have a lot of missing data in this dataset\n",
        "# However some of them is not really important, so we don't have problem so far\n",
        "\n",
        "print('Here we can view the missing data in our dataset: \\n')\n",
        "\n",
        "df.isnull().sum()"
      ]
    },
    {
      "cell_type": "code",
      "execution_count": null,
      "id": "e9457410",
      "metadata": {
        "id": "e9457410",
        "outputId": "af5fb700-71ed-4fa0-d0ef-042072bc5903"
      },
      "outputs": [
        {
          "name": "stdout",
          "output_type": "stream",
          "text": [
            "Here we can view the percentage of the missing data in our dataset: \n",
            "\n"
          ]
        },
        {
          "data": {
            "text/plain": [
              "invoiceno       0.00\n",
              "stockcode       0.00\n",
              "description     0.27\n",
              "quantity        0.00\n",
              "invoicedate     0.00\n",
              "unitprice       0.00\n",
              "customerid     24.93\n",
              "country         0.00\n",
              "dtype: float64"
            ]
          },
          "execution_count": 196,
          "metadata": {},
          "output_type": "execute_result"
        }
      ],
      "source": [
        "print('Here we can view the percentage of the missing data in our dataset: \\n')\n",
        "\n",
        "missing_percentage = (( df.isnull().sum() / df.shape[0] ) * 100).round(2)\n",
        "missing_percentage"
      ]
    },
    {
      "cell_type": "code",
      "execution_count": null,
      "id": "1e60058e",
      "metadata": {
        "id": "1e60058e",
        "outputId": "50e59b7a-c99f-4639-f147-20ddf6107a9a"
      },
      "outputs": [
        {
          "data": {
            "image/png": "[encoded data removed]",
            "text/plain": [
              "<Figure size 936x360 with 1 Axes>"
            ]
          },
          "metadata": {},
          "output_type": "display_data"
        }
      ],
      "source": [
        "fig,ax = plt.subplots( figsize=(13,5))\n",
        "((df.isnull().sum() / len(df))*100).plot.bar(ax=ax,rot= 70)\n",
        "ax.set_title('The percentage % of Null Values')\n",
        "plt.show()"
      ]
    },
    {
      "cell_type": "code",
      "execution_count": null,
      "id": "af955120",
      "metadata": {
        "id": "af955120",
        "outputId": "5b6f9ad9-0a8a-4787-ced1-59a871e36a0d"
      },
      "outputs": [
        {
          "name": "stdout",
          "output_type": "stream",
          "text": [
            "Missing Values after the cleaning: 0\n"
          ]
        }
      ],
      "source": [
        "# Droping rows having missing values\n",
        "\n",
        "df.dropna(inplace=True)\n",
        "\n",
        "print('Missing Values after the cleaning: {}'.format(df.isnull().sum().sum()))"
      ]
    },
    {
      "cell_type": "code",
      "execution_count": null,
      "id": "e30844e8",
      "metadata": {
        "id": "e30844e8",
        "outputId": "9ed80093-835d-42d0-cd48-cff459922fd2"
      },
      "outputs": [
        {
          "data": {
            "text/plain": [
              "invoiceno      0\n",
              "stockcode      0\n",
              "description    0\n",
              "quantity       0\n",
              "invoicedate    0\n",
              "unitprice      0\n",
              "customerid     0\n",
              "country        0\n",
              "dtype: int64"
            ]
          },
          "execution_count": 199,
          "metadata": {},
          "output_type": "execute_result"
        }
      ],
      "source": [
        "#Double check it, just in case\n",
        "\n",
        "df.isnull().sum()"
      ]
    },
    {
      "cell_type": "markdown",
      "id": "74716b24",
      "metadata": {
        "id": "74716b24"
      },
      "source": [
        "# Checking for duplicate rows"
      ]
    },
    {
      "cell_type": "code",
      "execution_count": null,
      "id": "e163d082",
      "metadata": {
        "id": "e163d082",
        "outputId": "fd1b0286-6df8-43f5-e3bb-e13c962a538d"
      },
      "outputs": [
        {
          "name": "stdout",
          "output_type": "stream",
          "text": [
            "The total amount of duplicates rows are 5225\n"
          ]
        }
      ],
      "source": [
        "duplicates_rows = df[df.duplicated()].value_counts().sum()\n",
        "print('The total amount of duplicates rows are' , duplicates_rows)"
      ]
    },
    {
      "cell_type": "code",
      "execution_count": null,
      "id": "6f0e2526",
      "metadata": {
        "id": "6f0e2526",
        "outputId": "c622c2cf-225b-4e84-9d20-9b5389c1ef9c"
      },
      "outputs": [
        {
          "data": {
            "text/html": [
              "<div>\n",
              "<style scoped>\n",
              "    .dataframe tbody tr th:only-of-type {\n",
              "        vertical-align: middle;\n",
              "    }\n",
              "\n",
              "    .dataframe tbody tr th {\n",
              "        vertical-align: top;\n",
              "    }\n",
              "\n",
              "    .dataframe thead th {\n",
              "        text-align: right;\n",
              "    }\n",
              "</style>\n",
              "<table border=\"1\" class=\"dataframe\">\n",
              "  <thead>\n",
              "    <tr style=\"text-align: right;\">\n",
              "      <th></th>\n",
              "      <th>invoiceno</th>\n",
              "      <th>stockcode</th>\n",
              "      <th>description</th>\n",
              "      <th>quantity</th>\n",
              "      <th>invoicedate</th>\n",
              "      <th>unitprice</th>\n",
              "      <th>customerid</th>\n",
              "      <th>country</th>\n",
              "    </tr>\n",
              "  </thead>\n",
              "  <tbody>\n",
              "    <tr>\n",
              "      <th>517</th>\n",
              "      <td>536409</td>\n",
              "      <td>21866</td>\n",
              "      <td>UNION JACK FLAG LUGGAGE TAG</td>\n",
              "      <td>1</td>\n",
              "      <td>12/1/2010 11:45</td>\n",
              "      <td>1.25</td>\n",
              "      <td>17908</td>\n",
              "      <td>United Kingdom</td>\n",
              "    </tr>\n",
              "    <tr>\n",
              "      <th>527</th>\n",
              "      <td>536409</td>\n",
              "      <td>22866</td>\n",
              "      <td>HAND WARMER SCOTTY DOG DESIGN</td>\n",
              "      <td>1</td>\n",
              "      <td>12/1/2010 11:45</td>\n",
              "      <td>2.10</td>\n",
              "      <td>17908</td>\n",
              "      <td>United Kingdom</td>\n",
              "    </tr>\n",
              "    <tr>\n",
              "      <th>537</th>\n",
              "      <td>536409</td>\n",
              "      <td>22900</td>\n",
              "      <td>SET 2 TEA TOWELS I LOVE LONDON</td>\n",
              "      <td>1</td>\n",
              "      <td>12/1/2010 11:45</td>\n",
              "      <td>2.95</td>\n",
              "      <td>17908</td>\n",
              "      <td>United Kingdom</td>\n",
              "    </tr>\n",
              "    <tr>\n",
              "      <th>539</th>\n",
              "      <td>536409</td>\n",
              "      <td>22111</td>\n",
              "      <td>SCOTTIE DOG HOT WATER BOTTLE</td>\n",
              "      <td>1</td>\n",
              "      <td>12/1/2010 11:45</td>\n",
              "      <td>4.95</td>\n",
              "      <td>17908</td>\n",
              "      <td>United Kingdom</td>\n",
              "    </tr>\n",
              "    <tr>\n",
              "      <th>555</th>\n",
              "      <td>536412</td>\n",
              "      <td>22327</td>\n",
              "      <td>ROUND SNACK BOXES SET OF 4 SKULLS</td>\n",
              "      <td>1</td>\n",
              "      <td>12/1/2010 11:49</td>\n",
              "      <td>2.95</td>\n",
              "      <td>17920</td>\n",
              "      <td>United Kingdom</td>\n",
              "    </tr>\n",
              "    <tr>\n",
              "      <th>587</th>\n",
              "      <td>536412</td>\n",
              "      <td>22273</td>\n",
              "      <td>FELTCRAFT DOLL MOLLY</td>\n",
              "      <td>1</td>\n",
              "      <td>12/1/2010 11:49</td>\n",
              "      <td>2.95</td>\n",
              "      <td>17920</td>\n",
              "      <td>United Kingdom</td>\n",
              "    </tr>\n",
              "    <tr>\n",
              "      <th>589</th>\n",
              "      <td>536412</td>\n",
              "      <td>22749</td>\n",
              "      <td>FELTCRAFT PRINCESS CHARLOTTE DOLL</td>\n",
              "      <td>1</td>\n",
              "      <td>12/1/2010 11:49</td>\n",
              "      <td>3.75</td>\n",
              "      <td>17920</td>\n",
              "      <td>United Kingdom</td>\n",
              "    </tr>\n",
              "    <tr>\n",
              "      <th>594</th>\n",
              "      <td>536412</td>\n",
              "      <td>22141</td>\n",
              "      <td>CHRISTMAS CRAFT TREE TOP ANGEL</td>\n",
              "      <td>1</td>\n",
              "      <td>12/1/2010 11:49</td>\n",
              "      <td>2.10</td>\n",
              "      <td>17920</td>\n",
              "      <td>United Kingdom</td>\n",
              "    </tr>\n",
              "    <tr>\n",
              "      <th>598</th>\n",
              "      <td>536412</td>\n",
              "      <td>21448</td>\n",
              "      <td>12 DAISY PEGS IN WOOD BOX</td>\n",
              "      <td>1</td>\n",
              "      <td>12/1/2010 11:49</td>\n",
              "      <td>1.65</td>\n",
              "      <td>17920</td>\n",
              "      <td>United Kingdom</td>\n",
              "    </tr>\n",
              "    <tr>\n",
              "      <th>600</th>\n",
              "      <td>536412</td>\n",
              "      <td>22569</td>\n",
              "      <td>FELTCRAFT CUSHION BUTTERFLY</td>\n",
              "      <td>2</td>\n",
              "      <td>12/1/2010 11:49</td>\n",
              "      <td>3.75</td>\n",
              "      <td>17920</td>\n",
              "      <td>United Kingdom</td>\n",
              "    </tr>\n",
              "    <tr>\n",
              "      <th>601</th>\n",
              "      <td>536412</td>\n",
              "      <td>21448</td>\n",
              "      <td>12 DAISY PEGS IN WOOD BOX</td>\n",
              "      <td>2</td>\n",
              "      <td>12/1/2010 11:49</td>\n",
              "      <td>1.65</td>\n",
              "      <td>17920</td>\n",
              "      <td>United Kingdom</td>\n",
              "    </tr>\n",
              "    <tr>\n",
              "      <th>604</th>\n",
              "      <td>536412</td>\n",
              "      <td>21448</td>\n",
              "      <td>12 DAISY PEGS IN WOOD BOX</td>\n",
              "      <td>2</td>\n",
              "      <td>12/1/2010 11:49</td>\n",
              "      <td>1.65</td>\n",
              "      <td>17920</td>\n",
              "      <td>United Kingdom</td>\n",
              "    </tr>\n",
              "    <tr>\n",
              "      <th>605</th>\n",
              "      <td>536412</td>\n",
              "      <td>22902</td>\n",
              "      <td>TOTE BAG I LOVE LONDON</td>\n",
              "      <td>7</td>\n",
              "      <td>12/1/2010 11:49</td>\n",
              "      <td>2.10</td>\n",
              "      <td>17920</td>\n",
              "      <td>United Kingdom</td>\n",
              "    </tr>\n",
              "    <tr>\n",
              "      <th>616</th>\n",
              "      <td>536412</td>\n",
              "      <td>21708</td>\n",
              "      <td>FOLDING UMBRELLA CREAM POLKADOT</td>\n",
              "      <td>1</td>\n",
              "      <td>12/1/2010 11:49</td>\n",
              "      <td>4.95</td>\n",
              "      <td>17920</td>\n",
              "      <td>United Kingdom</td>\n",
              "    </tr>\n",
              "    <tr>\n",
              "      <th>617</th>\n",
              "      <td>536412</td>\n",
              "      <td>22900</td>\n",
              "      <td>SET 2 TEA TOWELS I LOVE LONDON</td>\n",
              "      <td>2</td>\n",
              "      <td>12/1/2010 11:49</td>\n",
              "      <td>2.95</td>\n",
              "      <td>17920</td>\n",
              "      <td>United Kingdom</td>\n",
              "    </tr>\n",
              "    <tr>\n",
              "      <th>618</th>\n",
              "      <td>536412</td>\n",
              "      <td>21706</td>\n",
              "      <td>FOLDING UMBRELLA RED/WHITE POLKADOT</td>\n",
              "      <td>1</td>\n",
              "      <td>12/1/2010 11:49</td>\n",
              "      <td>4.95</td>\n",
              "      <td>17920</td>\n",
              "      <td>United Kingdom</td>\n",
              "    </tr>\n",
              "    <tr>\n",
              "      <th>620</th>\n",
              "      <td>536412</td>\n",
              "      <td>85184C</td>\n",
              "      <td>S/4 VALENTINE DECOUPAGE HEART BOX</td>\n",
              "      <td>1</td>\n",
              "      <td>12/1/2010 11:49</td>\n",
              "      <td>2.95</td>\n",
              "      <td>17920</td>\n",
              "      <td>United Kingdom</td>\n",
              "    </tr>\n",
              "    <tr>\n",
              "      <th>758</th>\n",
              "      <td>536446</td>\n",
              "      <td>21651</td>\n",
              "      <td>HANGING GLASS ETCHED TEALIGHT</td>\n",
              "      <td>6</td>\n",
              "      <td>12/1/2010 12:15</td>\n",
              "      <td>1.65</td>\n",
              "      <td>15983</td>\n",
              "      <td>United Kingdom</td>\n",
              "    </tr>\n",
              "    <tr>\n",
              "      <th>831</th>\n",
              "      <td>536464</td>\n",
              "      <td>22866</td>\n",
              "      <td>HAND WARMER SCOTTY DOG DESIGN</td>\n",
              "      <td>1</td>\n",
              "      <td>12/1/2010 12:23</td>\n",
              "      <td>2.10</td>\n",
              "      <td>17968</td>\n",
              "      <td>United Kingdom</td>\n",
              "    </tr>\n",
              "    <tr>\n",
              "      <th>835</th>\n",
              "      <td>536464</td>\n",
              "      <td>22945</td>\n",
              "      <td>CHRISTMAS METAL TAGS ASSORTED</td>\n",
              "      <td>6</td>\n",
              "      <td>12/1/2010 12:23</td>\n",
              "      <td>0.85</td>\n",
              "      <td>17968</td>\n",
              "      <td>United Kingdom</td>\n",
              "    </tr>\n",
              "  </tbody>\n",
              "</table>\n",
              "</div>"
            ],
            "text/plain": [
              "    invoiceno stockcode                          description  quantity  \\\n",
              "517    536409     21866          UNION JACK FLAG LUGGAGE TAG         1   \n",
              "527    536409     22866        HAND WARMER SCOTTY DOG DESIGN         1   \n",
              "537    536409     22900      SET 2 TEA TOWELS I LOVE LONDON          1   \n",
              "539    536409     22111         SCOTTIE DOG HOT WATER BOTTLE         1   \n",
              "555    536412     22327    ROUND SNACK BOXES SET OF 4 SKULLS         1   \n",
              "587    536412     22273                 FELTCRAFT DOLL MOLLY         1   \n",
              "589    536412     22749    FELTCRAFT PRINCESS CHARLOTTE DOLL         1   \n",
              "594    536412     22141       CHRISTMAS CRAFT TREE TOP ANGEL         1   \n",
              "598    536412     21448            12 DAISY PEGS IN WOOD BOX         1   \n",
              "600    536412     22569          FELTCRAFT CUSHION BUTTERFLY         2   \n",
              "601    536412     21448            12 DAISY PEGS IN WOOD BOX         2   \n",
              "604    536412     21448            12 DAISY PEGS IN WOOD BOX         2   \n",
              "605    536412     22902               TOTE BAG I LOVE LONDON         7   \n",
              "616    536412     21708      FOLDING UMBRELLA CREAM POLKADOT         1   \n",
              "617    536412     22900      SET 2 TEA TOWELS I LOVE LONDON          2   \n",
              "618    536412     21706  FOLDING UMBRELLA RED/WHITE POLKADOT         1   \n",
              "620    536412    85184C    S/4 VALENTINE DECOUPAGE HEART BOX         1   \n",
              "758    536446     21651        HANGING GLASS ETCHED TEALIGHT         6   \n",
              "831    536464     22866        HAND WARMER SCOTTY DOG DESIGN         1   \n",
              "835    536464     22945       CHRISTMAS METAL TAGS ASSORTED          6   \n",
              "\n",
              "         invoicedate  unitprice customerid         country  \n",
              "517  12/1/2010 11:45       1.25      17908  United Kingdom  \n",
              "527  12/1/2010 11:45       2.10      17908  United Kingdom  \n",
              "537  12/1/2010 11:45       2.95      17908  United Kingdom  \n",
              "539  12/1/2010 11:45       4.95      17908  United Kingdom  \n",
              "555  12/1/2010 11:49       2.95      17920  United Kingdom  \n",
              "587  12/1/2010 11:49       2.95      17920  United Kingdom  \n",
              "589  12/1/2010 11:49       3.75      17920  United Kingdom  \n",
              "594  12/1/2010 11:49       2.10      17920  United Kingdom  \n",
              "598  12/1/2010 11:49       1.65      17920  United Kingdom  \n",
              "600  12/1/2010 11:49       3.75      17920  United Kingdom  \n",
              "601  12/1/2010 11:49       1.65      17920  United Kingdom  \n",
              "604  12/1/2010 11:49       1.65      17920  United Kingdom  \n",
              "605  12/1/2010 11:49       2.10      17920  United Kingdom  \n",
              "616  12/1/2010 11:49       4.95      17920  United Kingdom  \n",
              "617  12/1/2010 11:49       2.95      17920  United Kingdom  \n",
              "618  12/1/2010 11:49       4.95      17920  United Kingdom  \n",
              "620  12/1/2010 11:49       2.95      17920  United Kingdom  \n",
              "758  12/1/2010 12:15       1.65      15983  United Kingdom  \n",
              "831  12/1/2010 12:23       2.10      17968  United Kingdom  \n",
              "835  12/1/2010 12:23       0.85      17968  United Kingdom  "
            ]
          },
          "execution_count": 201,
          "metadata": {},
          "output_type": "execute_result"
        }
      ],
      "source": [
        "# View the duplicate rows \n",
        "\n",
        "\n",
        "df[df.duplicated()].head(20)"
      ]
    },
    {
      "cell_type": "code",
      "execution_count": null,
      "id": "8a1cd42f",
      "metadata": {
        "id": "8a1cd42f",
        "outputId": "80d76fe1-23d4-4078-9406-5183729fcf94"
      },
      "outputs": [
        {
          "name": "stdout",
          "output_type": "stream",
          "text": [
            "The most wanted items in the dataset are \n",
            "\n"
          ]
        },
        {
          "data": {
            "text/plain": [
              "description\n",
              "WORLD WAR 2 GLIDERS ASSTD DESIGNS     53215\n",
              "JUMBO BAG RED RETROSPOT               45066\n",
              "ASSORTED COLOUR BIRD ORNAMENT         35314\n",
              "WHITE HANGING HEART T-LIGHT HOLDER    34147\n",
              "PACK OF 72 RETROSPOT CAKE CASES       33409\n",
              "POPCORN HOLDER                        30504\n",
              "RABBIT NIGHT LIGHT                    27094\n",
              "MINI PAINT SET VINTAGE                25880\n",
              "PACK OF 12 LONDON TISSUES             25321\n",
              "PACK OF 60 PINK PAISLEY CAKE CASES    24163\n",
              "BROCADE RING PURSE                    22960\n",
              "VICTORIAN GLASS HANGING T-LIGHT       21984\n",
              "ASSORTED COLOURS SILK FAN             21132\n",
              "RED  HARMONICA IN BOX                 20912\n",
              "JUMBO BAG PINK POLKADOT               19709\n",
              "SMALL POPCORN HOLDER                  18208\n",
              "60 TEATIME FAIRY CAKE CASES           17539\n",
              "LUNCH BAG RED RETROSPOT               17145\n",
              "HEART OF WICKER SMALL                 16640\n",
              "JUMBO BAG STRAWBERRY                  16557\n",
              "Name: quantity, dtype: int32"
            ]
          },
          "execution_count": 202,
          "metadata": {},
          "output_type": "execute_result"
        }
      ],
      "source": [
        "# Sort the 5 most ordered products from most to least.\n",
        "\n",
        "print('The most wanted items in the dataset are \\n')\n",
        "\n",
        "df.groupby('description')['quantity'].sum().sort_values(ascending = False).head(20).astype(int)"
      ]
    },
    {
      "cell_type": "markdown",
      "id": "d0f8c765",
      "metadata": {
        "id": "d0f8c765"
      },
      "source": [
        "# Stock Code "
      ]
    },
    {
      "cell_type": "code",
      "execution_count": null,
      "id": "a4b294ec",
      "metadata": {
        "id": "a4b294ec",
        "outputId": "e42ad4b7-f4c3-4c99-dcd0-b8108c555765"
      },
      "outputs": [
        {
          "data": {
            "text/plain": [
              "array(['POST', 'D', 'C2', 'M', 'BANK CHARGES', 'PADS', 'DOT', 'CRUK'],\n",
              "      dtype=object)"
            ]
          },
          "execution_count": 203,
          "metadata": {},
          "output_type": "execute_result"
        }
      ],
      "source": [
        "# View all the stock code of the dataset \n",
        "\n",
        "list_special_codes = df[df['stockcode'].str.contains('^[a-zA-Z]+', regex=True)]['stockcode'].unique()\n",
        "list_special_codes"
      ]
    },
    {
      "cell_type": "code",
      "execution_count": null,
      "id": "cb128d0e",
      "metadata": {
        "id": "cb128d0e",
        "outputId": "ea19c6e0-9228-4768-b92c-48b2755c8388"
      },
      "outputs": [
        {
          "name": "stdout",
          "output_type": "stream",
          "text": [
            "POST            ->  POSTAGE                       \n",
            "D               ->  Discount                      \n",
            "C2              ->  CARRIAGE                      \n",
            "M               ->  Manual                        \n",
            "BANK CHARGES    ->  Bank Charges                  \n",
            "PADS            ->  PADS TO MATCH ALL CUSHIONS    \n",
            "DOT             ->  DOTCOM POSTAGE                \n",
            "CRUK            ->  CRUK Commission               \n"
          ]
        }
      ],
      "source": [
        "for code in list_special_codes:\n",
        "    print(\"{:<15} ->  {:<30}\".format(code, df[df['stockcode'] == code]['description'].unique()[0]))"
      ]
    },
    {
      "cell_type": "markdown",
      "id": "268ea25e",
      "metadata": {
        "id": "268ea25e"
      },
      "source": [
        "# Cancelled Orders & Quantity"
      ]
    },
    {
      "cell_type": "code",
      "execution_count": null,
      "id": "748fbbba",
      "metadata": {
        "id": "748fbbba",
        "outputId": "21eac8a8-0b3a-479d-8f99-767ff2005abd"
      },
      "outputs": [
        {
          "name": "stdout",
          "output_type": "stream",
          "text": [
            "The total number of items that was canceled are 8905\n"
          ]
        }
      ],
      "source": [
        "canceled = (df[\"invoiceno\"].str.contains(\"C\", na = False).sum())\n",
        "print('The total number of items that was canceled are', canceled)"
      ]
    },
    {
      "cell_type": "code",
      "execution_count": null,
      "id": "13256f30",
      "metadata": {
        "id": "13256f30",
        "outputId": "7034cf84-7242-492a-f1df-a59a7f956c40"
      },
      "outputs": [
        {
          "data": {
            "text/plain": [
              "406829"
            ]
          },
          "execution_count": 206,
          "metadata": {},
          "output_type": "execute_result"
        }
      ],
      "source": [
        "df.shape[0]"
      ]
    },
    {
      "cell_type": "code",
      "execution_count": null,
      "id": "27276de5",
      "metadata": {
        "id": "27276de5",
        "outputId": "b2527a86-ed76-46e8-c736-af7fa1f8a4b5"
      },
      "outputs": [
        {
          "name": "stdout",
          "output_type": "stream",
          "text": [
            "The percentage of canceled orders is  2.188880340388714 %\n"
          ]
        }
      ],
      "source": [
        "per_canceled = ((canceled)/ df.shape[0])*100\n",
        "print('The percentage of canceled orders is ',per_canceled , '%')"
      ]
    },
    {
      "cell_type": "code",
      "execution_count": null,
      "id": "6d6633c5",
      "metadata": {
        "id": "6d6633c5",
        "outputId": "122fc490-5306-4af1-9956-9797916a262f"
      },
      "outputs": [
        {
          "name": "stdout",
          "output_type": "stream",
          "text": [
            "True\n"
          ]
        }
      ],
      "source": [
        "#checking negative number of quantity in the data\n",
        "\n",
        "flag = False\n",
        "if(df['quantity']<0).any():\n",
        "    flag = True\n",
        "    print(flag)"
      ]
    },
    {
      "cell_type": "markdown",
      "id": "d2ae81ee",
      "metadata": {
        "id": "d2ae81ee"
      },
      "source": [
        "###### Creating canceled column in dataset"
      ]
    },
    {
      "cell_type": "code",
      "execution_count": null,
      "id": "061378c9",
      "metadata": {
        "id": "061378c9",
        "outputId": "64df9d48-c06e-4b39-c7f3-e8219bd37755"
      },
      "outputs": [
        {
          "data": {
            "text/html": [
              "<div>\n",
              "<style scoped>\n",
              "    .dataframe tbody tr th:only-of-type {\n",
              "        vertical-align: middle;\n",
              "    }\n",
              "\n",
              "    .dataframe tbody tr th {\n",
              "        vertical-align: top;\n",
              "    }\n",
              "\n",
              "    .dataframe thead th {\n",
              "        text-align: right;\n",
              "    }\n",
              "</style>\n",
              "<table border=\"1\" class=\"dataframe\">\n",
              "  <thead>\n",
              "    <tr style=\"text-align: right;\">\n",
              "      <th></th>\n",
              "      <th>invoiceno</th>\n",
              "      <th>stockcode</th>\n",
              "      <th>description</th>\n",
              "      <th>quantity</th>\n",
              "      <th>invoicedate</th>\n",
              "      <th>unitprice</th>\n",
              "      <th>customerid</th>\n",
              "      <th>country</th>\n",
              "      <th>canceled</th>\n",
              "    </tr>\n",
              "  </thead>\n",
              "  <tbody>\n",
              "    <tr>\n",
              "      <th>0</th>\n",
              "      <td>536365</td>\n",
              "      <td>85123A</td>\n",
              "      <td>WHITE HANGING HEART T-LIGHT HOLDER</td>\n",
              "      <td>6</td>\n",
              "      <td>12/1/2010 8:26</td>\n",
              "      <td>2.55</td>\n",
              "      <td>17850</td>\n",
              "      <td>United Kingdom</td>\n",
              "      <td>No</td>\n",
              "    </tr>\n",
              "    <tr>\n",
              "      <th>1</th>\n",
              "      <td>536365</td>\n",
              "      <td>71053</td>\n",
              "      <td>WHITE METAL LANTERN</td>\n",
              "      <td>6</td>\n",
              "      <td>12/1/2010 8:26</td>\n",
              "      <td>3.39</td>\n",
              "      <td>17850</td>\n",
              "      <td>United Kingdom</td>\n",
              "      <td>No</td>\n",
              "    </tr>\n",
              "    <tr>\n",
              "      <th>2</th>\n",
              "      <td>536365</td>\n",
              "      <td>84406B</td>\n",
              "      <td>CREAM CUPID HEARTS COAT HANGER</td>\n",
              "      <td>8</td>\n",
              "      <td>12/1/2010 8:26</td>\n",
              "      <td>2.75</td>\n",
              "      <td>17850</td>\n",
              "      <td>United Kingdom</td>\n",
              "      <td>No</td>\n",
              "    </tr>\n",
              "    <tr>\n",
              "      <th>3</th>\n",
              "      <td>536365</td>\n",
              "      <td>84029G</td>\n",
              "      <td>KNITTED UNION FLAG HOT WATER BOTTLE</td>\n",
              "      <td>6</td>\n",
              "      <td>12/1/2010 8:26</td>\n",
              "      <td>3.39</td>\n",
              "      <td>17850</td>\n",
              "      <td>United Kingdom</td>\n",
              "      <td>No</td>\n",
              "    </tr>\n",
              "    <tr>\n",
              "      <th>4</th>\n",
              "      <td>536365</td>\n",
              "      <td>84029E</td>\n",
              "      <td>RED WOOLLY HOTTIE WHITE HEART.</td>\n",
              "      <td>6</td>\n",
              "      <td>12/1/2010 8:26</td>\n",
              "      <td>3.39</td>\n",
              "      <td>17850</td>\n",
              "      <td>United Kingdom</td>\n",
              "      <td>No</td>\n",
              "    </tr>\n",
              "    <tr>\n",
              "      <th>...</th>\n",
              "      <td>...</td>\n",
              "      <td>...</td>\n",
              "      <td>...</td>\n",
              "      <td>...</td>\n",
              "      <td>...</td>\n",
              "      <td>...</td>\n",
              "      <td>...</td>\n",
              "      <td>...</td>\n",
              "      <td>...</td>\n",
              "    </tr>\n",
              "    <tr>\n",
              "      <th>541904</th>\n",
              "      <td>581587</td>\n",
              "      <td>22613</td>\n",
              "      <td>PACK OF 20 SPACEBOY NAPKINS</td>\n",
              "      <td>12</td>\n",
              "      <td>12/9/2011 12:50</td>\n",
              "      <td>0.85</td>\n",
              "      <td>12680</td>\n",
              "      <td>France</td>\n",
              "      <td>No</td>\n",
              "    </tr>\n",
              "    <tr>\n",
              "      <th>541905</th>\n",
              "      <td>581587</td>\n",
              "      <td>22899</td>\n",
              "      <td>CHILDREN'S APRON DOLLY GIRL</td>\n",
              "      <td>6</td>\n",
              "      <td>12/9/2011 12:50</td>\n",
              "      <td>2.10</td>\n",
              "      <td>12680</td>\n",
              "      <td>France</td>\n",
              "      <td>No</td>\n",
              "    </tr>\n",
              "    <tr>\n",
              "      <th>541906</th>\n",
              "      <td>581587</td>\n",
              "      <td>23254</td>\n",
              "      <td>CHILDRENS CUTLERY DOLLY GIRL</td>\n",
              "      <td>4</td>\n",
              "      <td>12/9/2011 12:50</td>\n",
              "      <td>4.15</td>\n",
              "      <td>12680</td>\n",
              "      <td>France</td>\n",
              "      <td>No</td>\n",
              "    </tr>\n",
              "    <tr>\n",
              "      <th>541907</th>\n",
              "      <td>581587</td>\n",
              "      <td>23255</td>\n",
              "      <td>CHILDRENS CUTLERY CIRCUS PARADE</td>\n",
              "      <td>4</td>\n",
              "      <td>12/9/2011 12:50</td>\n",
              "      <td>4.15</td>\n",
              "      <td>12680</td>\n",
              "      <td>France</td>\n",
              "      <td>No</td>\n",
              "    </tr>\n",
              "    <tr>\n",
              "      <th>541908</th>\n",
              "      <td>581587</td>\n",
              "      <td>22138</td>\n",
              "      <td>BAKING SET 9 PIECE RETROSPOT</td>\n",
              "      <td>3</td>\n",
              "      <td>12/9/2011 12:50</td>\n",
              "      <td>4.95</td>\n",
              "      <td>12680</td>\n",
              "      <td>France</td>\n",
              "      <td>No</td>\n",
              "    </tr>\n",
              "  </tbody>\n",
              "</table>\n",
              "<p>397924 rows × 9 columns</p>\n",
              "</div>"
            ],
            "text/plain": [
              "       invoiceno stockcode                          description  quantity  \\\n",
              "0         536365    85123A   WHITE HANGING HEART T-LIGHT HOLDER         6   \n",
              "1         536365     71053                  WHITE METAL LANTERN         6   \n",
              "2         536365    84406B       CREAM CUPID HEARTS COAT HANGER         8   \n",
              "3         536365    84029G  KNITTED UNION FLAG HOT WATER BOTTLE         6   \n",
              "4         536365    84029E       RED WOOLLY HOTTIE WHITE HEART.         6   \n",
              "...          ...       ...                                  ...       ...   \n",
              "541904    581587     22613          PACK OF 20 SPACEBOY NAPKINS        12   \n",
              "541905    581587     22899         CHILDREN'S APRON DOLLY GIRL          6   \n",
              "541906    581587     23254        CHILDRENS CUTLERY DOLLY GIRL          4   \n",
              "541907    581587     23255      CHILDRENS CUTLERY CIRCUS PARADE         4   \n",
              "541908    581587     22138        BAKING SET 9 PIECE RETROSPOT          3   \n",
              "\n",
              "            invoicedate  unitprice customerid         country canceled  \n",
              "0        12/1/2010 8:26       2.55      17850  United Kingdom       No  \n",
              "1        12/1/2010 8:26       3.39      17850  United Kingdom       No  \n",
              "2        12/1/2010 8:26       2.75      17850  United Kingdom       No  \n",
              "3        12/1/2010 8:26       3.39      17850  United Kingdom       No  \n",
              "4        12/1/2010 8:26       3.39      17850  United Kingdom       No  \n",
              "...                 ...        ...        ...             ...      ...  \n",
              "541904  12/9/2011 12:50       0.85      12680          France       No  \n",
              "541905  12/9/2011 12:50       2.10      12680          France       No  \n",
              "541906  12/9/2011 12:50       4.15      12680          France       No  \n",
              "541907  12/9/2011 12:50       4.15      12680          France       No  \n",
              "541908  12/9/2011 12:50       4.95      12680          France       No  \n",
              "\n",
              "[397924 rows x 9 columns]"
            ]
          },
          "execution_count": 209,
          "metadata": {},
          "output_type": "execute_result"
        }
      ],
      "source": [
        "df['canceled'] = df['invoiceno'].apply(lambda x : 'Yes' if x[0] == 'C' else 'No')\n",
        "df[df['canceled'] == 'No']"
      ]
    },
    {
      "cell_type": "code",
      "execution_count": null,
      "id": "2e8b7018",
      "metadata": {
        "id": "2e8b7018",
        "outputId": "503c836d-3359-48af-b57e-6966b11c5716"
      },
      "outputs": [
        {
          "name": "stdout",
          "output_type": "stream",
          "text": [
            "The total number of items that was canceled are 8905\n"
          ]
        }
      ],
      "source": [
        "negative_quantity = df[df['quantity'] < 0]\n",
        "negative_quantity.head()\n",
        "print('The total number of items that was canceled are',negative_quantity.value_counts().sum() ) "
      ]
    },
    {
      "cell_type": "code",
      "execution_count": null,
      "id": "887d5539",
      "metadata": {
        "id": "887d5539",
        "outputId": "1f26c974-5411-41b3-bb09-6789546b6a51"
      },
      "outputs": [
        {
          "data": {
            "text/html": [
              "<div>\n",
              "<style scoped>\n",
              "    .dataframe tbody tr th:only-of-type {\n",
              "        vertical-align: middle;\n",
              "    }\n",
              "\n",
              "    .dataframe tbody tr th {\n",
              "        vertical-align: top;\n",
              "    }\n",
              "\n",
              "    .dataframe thead th {\n",
              "        text-align: right;\n",
              "    }\n",
              "</style>\n",
              "<table border=\"1\" class=\"dataframe\">\n",
              "  <thead>\n",
              "    <tr style=\"text-align: right;\">\n",
              "      <th></th>\n",
              "      <th>invoiceno</th>\n",
              "      <th>stockcode</th>\n",
              "      <th>description</th>\n",
              "      <th>quantity</th>\n",
              "      <th>invoicedate</th>\n",
              "      <th>unitprice</th>\n",
              "      <th>customerid</th>\n",
              "      <th>country</th>\n",
              "      <th>canceled</th>\n",
              "    </tr>\n",
              "  </thead>\n",
              "  <tbody>\n",
              "    <tr>\n",
              "      <th>0</th>\n",
              "      <td>536365</td>\n",
              "      <td>85123A</td>\n",
              "      <td>WHITE HANGING HEART T-LIGHT HOLDER</td>\n",
              "      <td>6</td>\n",
              "      <td>12/1/2010 8:26</td>\n",
              "      <td>2.55</td>\n",
              "      <td>17850</td>\n",
              "      <td>United Kingdom</td>\n",
              "      <td>No</td>\n",
              "    </tr>\n",
              "    <tr>\n",
              "      <th>1</th>\n",
              "      <td>536365</td>\n",
              "      <td>71053</td>\n",
              "      <td>WHITE METAL LANTERN</td>\n",
              "      <td>6</td>\n",
              "      <td>12/1/2010 8:26</td>\n",
              "      <td>3.39</td>\n",
              "      <td>17850</td>\n",
              "      <td>United Kingdom</td>\n",
              "      <td>No</td>\n",
              "    </tr>\n",
              "    <tr>\n",
              "      <th>2</th>\n",
              "      <td>536365</td>\n",
              "      <td>84406B</td>\n",
              "      <td>CREAM CUPID HEARTS COAT HANGER</td>\n",
              "      <td>8</td>\n",
              "      <td>12/1/2010 8:26</td>\n",
              "      <td>2.75</td>\n",
              "      <td>17850</td>\n",
              "      <td>United Kingdom</td>\n",
              "      <td>No</td>\n",
              "    </tr>\n",
              "    <tr>\n",
              "      <th>3</th>\n",
              "      <td>536365</td>\n",
              "      <td>84029G</td>\n",
              "      <td>KNITTED UNION FLAG HOT WATER BOTTLE</td>\n",
              "      <td>6</td>\n",
              "      <td>12/1/2010 8:26</td>\n",
              "      <td>3.39</td>\n",
              "      <td>17850</td>\n",
              "      <td>United Kingdom</td>\n",
              "      <td>No</td>\n",
              "    </tr>\n",
              "    <tr>\n",
              "      <th>4</th>\n",
              "      <td>536365</td>\n",
              "      <td>84029E</td>\n",
              "      <td>RED WOOLLY HOTTIE WHITE HEART.</td>\n",
              "      <td>6</td>\n",
              "      <td>12/1/2010 8:26</td>\n",
              "      <td>3.39</td>\n",
              "      <td>17850</td>\n",
              "      <td>United Kingdom</td>\n",
              "      <td>No</td>\n",
              "    </tr>\n",
              "  </tbody>\n",
              "</table>\n",
              "</div>"
            ],
            "text/plain": [
              "  invoiceno stockcode                          description  quantity  \\\n",
              "0    536365    85123A   WHITE HANGING HEART T-LIGHT HOLDER         6   \n",
              "1    536365     71053                  WHITE METAL LANTERN         6   \n",
              "2    536365    84406B       CREAM CUPID HEARTS COAT HANGER         8   \n",
              "3    536365    84029G  KNITTED UNION FLAG HOT WATER BOTTLE         6   \n",
              "4    536365    84029E       RED WOOLLY HOTTIE WHITE HEART.         6   \n",
              "\n",
              "      invoicedate  unitprice customerid         country canceled  \n",
              "0  12/1/2010 8:26       2.55      17850  United Kingdom       No  \n",
              "1  12/1/2010 8:26       3.39      17850  United Kingdom       No  \n",
              "2  12/1/2010 8:26       2.75      17850  United Kingdom       No  \n",
              "3  12/1/2010 8:26       3.39      17850  United Kingdom       No  \n",
              "4  12/1/2010 8:26       3.39      17850  United Kingdom       No  "
            ]
          },
          "execution_count": 211,
          "metadata": {},
          "output_type": "execute_result"
        }
      ],
      "source": [
        "#dropping the rows with negative columns\n",
        "df = df[df['quantity'] > 0]\n",
        "df.head()"
      ]
    },
    {
      "cell_type": "code",
      "execution_count": null,
      "id": "878865bb",
      "metadata": {
        "id": "878865bb",
        "outputId": "52499589-d27a-4773-dc61-d23e3ad1e233"
      },
      "outputs": [
        {
          "data": {
            "text/plain": [
              "(397924, 9)"
            ]
          },
          "execution_count": 212,
          "metadata": {},
          "output_type": "execute_result"
        }
      ],
      "source": [
        "#the shape after dropping the data\n",
        "df.shape"
      ]
    },
    {
      "cell_type": "markdown",
      "id": "75783c6f",
      "metadata": {
        "id": "75783c6f"
      },
      "source": [
        "### Calculation of RMF\n"
      ]
    },
    {
      "cell_type": "markdown",
      "id": "86770bf4",
      "metadata": {
        "id": "86770bf4"
      },
      "source": [
        "### Recency :  The freshness of customer activity be it purchases or visits"
      ]
    },
    {
      "cell_type": "markdown",
      "id": "aef717ad",
      "metadata": {
        "id": "aef717ad"
      },
      "source": [
        "### Frequency : The number of purchases of the customers"
      ]
    },
    {
      "cell_type": "markdown",
      "id": "05cbc25f",
      "metadata": {
        "id": "05cbc25f"
      },
      "source": [
        "### Monetary : The sum total of transaction value of customers."
      ]
    },
    {
      "cell_type": "code",
      "execution_count": null,
      "id": "e93a6334",
      "metadata": {
        "id": "e93a6334",
        "outputId": "6d1a8a02-6c0e-44fd-f0b3-840704eca7f4"
      },
      "outputs": [
        {
          "data": {
            "text/html": [
              "<div>\n",
              "<style scoped>\n",
              "    .dataframe tbody tr th:only-of-type {\n",
              "        vertical-align: middle;\n",
              "    }\n",
              "\n",
              "    .dataframe tbody tr th {\n",
              "        vertical-align: top;\n",
              "    }\n",
              "\n",
              "    .dataframe thead th {\n",
              "        text-align: right;\n",
              "    }\n",
              "</style>\n",
              "<table border=\"1\" class=\"dataframe\">\n",
              "  <thead>\n",
              "    <tr style=\"text-align: right;\">\n",
              "      <th></th>\n",
              "      <th>invoiceno</th>\n",
              "      <th>stockcode</th>\n",
              "      <th>description</th>\n",
              "      <th>quantity</th>\n",
              "      <th>invoicedate</th>\n",
              "      <th>unitprice</th>\n",
              "      <th>customerid</th>\n",
              "      <th>country</th>\n",
              "      <th>canceled</th>\n",
              "      <th>total_price</th>\n",
              "    </tr>\n",
              "  </thead>\n",
              "  <tbody>\n",
              "    <tr>\n",
              "      <th>0</th>\n",
              "      <td>536365</td>\n",
              "      <td>85123A</td>\n",
              "      <td>WHITE HANGING HEART T-LIGHT HOLDER</td>\n",
              "      <td>6</td>\n",
              "      <td>12/1/2010 8:26</td>\n",
              "      <td>2.55</td>\n",
              "      <td>17850</td>\n",
              "      <td>United Kingdom</td>\n",
              "      <td>No</td>\n",
              "      <td>15.30</td>\n",
              "    </tr>\n",
              "    <tr>\n",
              "      <th>1</th>\n",
              "      <td>536365</td>\n",
              "      <td>71053</td>\n",
              "      <td>WHITE METAL LANTERN</td>\n",
              "      <td>6</td>\n",
              "      <td>12/1/2010 8:26</td>\n",
              "      <td>3.39</td>\n",
              "      <td>17850</td>\n",
              "      <td>United Kingdom</td>\n",
              "      <td>No</td>\n",
              "      <td>20.34</td>\n",
              "    </tr>\n",
              "    <tr>\n",
              "      <th>2</th>\n",
              "      <td>536365</td>\n",
              "      <td>84406B</td>\n",
              "      <td>CREAM CUPID HEARTS COAT HANGER</td>\n",
              "      <td>8</td>\n",
              "      <td>12/1/2010 8:26</td>\n",
              "      <td>2.75</td>\n",
              "      <td>17850</td>\n",
              "      <td>United Kingdom</td>\n",
              "      <td>No</td>\n",
              "      <td>22.00</td>\n",
              "    </tr>\n",
              "    <tr>\n",
              "      <th>3</th>\n",
              "      <td>536365</td>\n",
              "      <td>84029G</td>\n",
              "      <td>KNITTED UNION FLAG HOT WATER BOTTLE</td>\n",
              "      <td>6</td>\n",
              "      <td>12/1/2010 8:26</td>\n",
              "      <td>3.39</td>\n",
              "      <td>17850</td>\n",
              "      <td>United Kingdom</td>\n",
              "      <td>No</td>\n",
              "      <td>20.34</td>\n",
              "    </tr>\n",
              "    <tr>\n",
              "      <th>4</th>\n",
              "      <td>536365</td>\n",
              "      <td>84029E</td>\n",
              "      <td>RED WOOLLY HOTTIE WHITE HEART.</td>\n",
              "      <td>6</td>\n",
              "      <td>12/1/2010 8:26</td>\n",
              "      <td>3.39</td>\n",
              "      <td>17850</td>\n",
              "      <td>United Kingdom</td>\n",
              "      <td>No</td>\n",
              "      <td>20.34</td>\n",
              "    </tr>\n",
              "    <tr>\n",
              "      <th>...</th>\n",
              "      <td>...</td>\n",
              "      <td>...</td>\n",
              "      <td>...</td>\n",
              "      <td>...</td>\n",
              "      <td>...</td>\n",
              "      <td>...</td>\n",
              "      <td>...</td>\n",
              "      <td>...</td>\n",
              "      <td>...</td>\n",
              "      <td>...</td>\n",
              "    </tr>\n",
              "    <tr>\n",
              "      <th>541904</th>\n",
              "      <td>581587</td>\n",
              "      <td>22613</td>\n",
              "      <td>PACK OF 20 SPACEBOY NAPKINS</td>\n",
              "      <td>12</td>\n",
              "      <td>12/9/2011 12:50</td>\n",
              "      <td>0.85</td>\n",
              "      <td>12680</td>\n",
              "      <td>France</td>\n",
              "      <td>No</td>\n",
              "      <td>10.20</td>\n",
              "    </tr>\n",
              "    <tr>\n",
              "      <th>541905</th>\n",
              "      <td>581587</td>\n",
              "      <td>22899</td>\n",
              "      <td>CHILDREN'S APRON DOLLY GIRL</td>\n",
              "      <td>6</td>\n",
              "      <td>12/9/2011 12:50</td>\n",
              "      <td>2.10</td>\n",
              "      <td>12680</td>\n",
              "      <td>France</td>\n",
              "      <td>No</td>\n",
              "      <td>12.60</td>\n",
              "    </tr>\n",
              "    <tr>\n",
              "      <th>541906</th>\n",
              "      <td>581587</td>\n",
              "      <td>23254</td>\n",
              "      <td>CHILDRENS CUTLERY DOLLY GIRL</td>\n",
              "      <td>4</td>\n",
              "      <td>12/9/2011 12:50</td>\n",
              "      <td>4.15</td>\n",
              "      <td>12680</td>\n",
              "      <td>France</td>\n",
              "      <td>No</td>\n",
              "      <td>16.60</td>\n",
              "    </tr>\n",
              "    <tr>\n",
              "      <th>541907</th>\n",
              "      <td>581587</td>\n",
              "      <td>23255</td>\n",
              "      <td>CHILDRENS CUTLERY CIRCUS PARADE</td>\n",
              "      <td>4</td>\n",
              "      <td>12/9/2011 12:50</td>\n",
              "      <td>4.15</td>\n",
              "      <td>12680</td>\n",
              "      <td>France</td>\n",
              "      <td>No</td>\n",
              "      <td>16.60</td>\n",
              "    </tr>\n",
              "    <tr>\n",
              "      <th>541908</th>\n",
              "      <td>581587</td>\n",
              "      <td>22138</td>\n",
              "      <td>BAKING SET 9 PIECE RETROSPOT</td>\n",
              "      <td>3</td>\n",
              "      <td>12/9/2011 12:50</td>\n",
              "      <td>4.95</td>\n",
              "      <td>12680</td>\n",
              "      <td>France</td>\n",
              "      <td>No</td>\n",
              "      <td>14.85</td>\n",
              "    </tr>\n",
              "  </tbody>\n",
              "</table>\n",
              "<p>397924 rows × 10 columns</p>\n",
              "</div>"
            ],
            "text/plain": [
              "       invoiceno stockcode                          description  quantity  \\\n",
              "0         536365    85123A   WHITE HANGING HEART T-LIGHT HOLDER         6   \n",
              "1         536365     71053                  WHITE METAL LANTERN         6   \n",
              "2         536365    84406B       CREAM CUPID HEARTS COAT HANGER         8   \n",
              "3         536365    84029G  KNITTED UNION FLAG HOT WATER BOTTLE         6   \n",
              "4         536365    84029E       RED WOOLLY HOTTIE WHITE HEART.         6   \n",
              "...          ...       ...                                  ...       ...   \n",
              "541904    581587     22613          PACK OF 20 SPACEBOY NAPKINS        12   \n",
              "541905    581587     22899         CHILDREN'S APRON DOLLY GIRL          6   \n",
              "541906    581587     23254        CHILDRENS CUTLERY DOLLY GIRL          4   \n",
              "541907    581587     23255      CHILDRENS CUTLERY CIRCUS PARADE         4   \n",
              "541908    581587     22138        BAKING SET 9 PIECE RETROSPOT          3   \n",
              "\n",
              "            invoicedate  unitprice customerid         country canceled  \\\n",
              "0        12/1/2010 8:26       2.55      17850  United Kingdom       No   \n",
              "1        12/1/2010 8:26       3.39      17850  United Kingdom       No   \n",
              "2        12/1/2010 8:26       2.75      17850  United Kingdom       No   \n",
              "3        12/1/2010 8:26       3.39      17850  United Kingdom       No   \n",
              "4        12/1/2010 8:26       3.39      17850  United Kingdom       No   \n",
              "...                 ...        ...        ...             ...      ...   \n",
              "541904  12/9/2011 12:50       0.85      12680          France       No   \n",
              "541905  12/9/2011 12:50       2.10      12680          France       No   \n",
              "541906  12/9/2011 12:50       4.15      12680          France       No   \n",
              "541907  12/9/2011 12:50       4.15      12680          France       No   \n",
              "541908  12/9/2011 12:50       4.95      12680          France       No   \n",
              "\n",
              "        total_price  \n",
              "0             15.30  \n",
              "1             20.34  \n",
              "2             22.00  \n",
              "3             20.34  \n",
              "4             20.34  \n",
              "...             ...  \n",
              "541904        10.20  \n",
              "541905        12.60  \n",
              "541906        16.60  \n",
              "541907        16.60  \n",
              "541908        14.85  \n",
              "\n",
              "[397924 rows x 10 columns]"
            ]
          },
          "execution_count": 213,
          "metadata": {},
          "output_type": "execute_result"
        }
      ],
      "source": [
        "df['total_price'] = df['quantity'] * df['unitprice']\n",
        "df"
      ]
    },
    {
      "cell_type": "code",
      "execution_count": null,
      "id": "5837c773",
      "metadata": {
        "id": "5837c773",
        "outputId": "ba433d30-4051-431b-d909-466ee8fc4b48"
      },
      "outputs": [
        {
          "data": {
            "text/html": [
              "<div>\n",
              "<style scoped>\n",
              "    .dataframe tbody tr th:only-of-type {\n",
              "        vertical-align: middle;\n",
              "    }\n",
              "\n",
              "    .dataframe tbody tr th {\n",
              "        vertical-align: top;\n",
              "    }\n",
              "\n",
              "    .dataframe thead th {\n",
              "        text-align: right;\n",
              "    }\n",
              "</style>\n",
              "<table border=\"1\" class=\"dataframe\">\n",
              "  <thead>\n",
              "    <tr style=\"text-align: right;\">\n",
              "      <th></th>\n",
              "      <th>index</th>\n",
              "      <th>invoiceno</th>\n",
              "      <th>stockcode</th>\n",
              "      <th>description</th>\n",
              "      <th>quantity</th>\n",
              "      <th>invoicedate</th>\n",
              "      <th>unitprice</th>\n",
              "      <th>customerid</th>\n",
              "      <th>country</th>\n",
              "      <th>canceled</th>\n",
              "      <th>total_price</th>\n",
              "    </tr>\n",
              "  </thead>\n",
              "  <tbody>\n",
              "    <tr>\n",
              "      <th>0</th>\n",
              "      <td>540421</td>\n",
              "      <td>581483</td>\n",
              "      <td>23843</td>\n",
              "      <td>PAPER CRAFT , LITTLE BIRDIE</td>\n",
              "      <td>80995</td>\n",
              "      <td>12/9/2011 9:15</td>\n",
              "      <td>2.08</td>\n",
              "      <td>16446</td>\n",
              "      <td>United Kingdom</td>\n",
              "      <td>No</td>\n",
              "      <td>168469.60</td>\n",
              "    </tr>\n",
              "    <tr>\n",
              "      <th>1</th>\n",
              "      <td>61619</td>\n",
              "      <td>541431</td>\n",
              "      <td>23166</td>\n",
              "      <td>MEDIUM CERAMIC TOP STORAGE JAR</td>\n",
              "      <td>74215</td>\n",
              "      <td>1/18/2011 10:01</td>\n",
              "      <td>1.04</td>\n",
              "      <td>12346</td>\n",
              "      <td>United Kingdom</td>\n",
              "      <td>No</td>\n",
              "      <td>77183.60</td>\n",
              "    </tr>\n",
              "    <tr>\n",
              "      <th>2</th>\n",
              "      <td>222680</td>\n",
              "      <td>556444</td>\n",
              "      <td>22502</td>\n",
              "      <td>PICNIC BASKET WICKER 60 PIECES</td>\n",
              "      <td>60</td>\n",
              "      <td>6/10/2011 15:28</td>\n",
              "      <td>649.50</td>\n",
              "      <td>15098</td>\n",
              "      <td>United Kingdom</td>\n",
              "      <td>No</td>\n",
              "      <td>38970.00</td>\n",
              "    </tr>\n",
              "    <tr>\n",
              "      <th>3</th>\n",
              "      <td>173382</td>\n",
              "      <td>551697</td>\n",
              "      <td>POST</td>\n",
              "      <td>POSTAGE</td>\n",
              "      <td>1</td>\n",
              "      <td>5/3/2011 13:46</td>\n",
              "      <td>8142.75</td>\n",
              "      <td>16029</td>\n",
              "      <td>United Kingdom</td>\n",
              "      <td>No</td>\n",
              "      <td>8142.75</td>\n",
              "    </tr>\n",
              "    <tr>\n",
              "      <th>4</th>\n",
              "      <td>348325</td>\n",
              "      <td>567423</td>\n",
              "      <td>23243</td>\n",
              "      <td>SET OF TEA COFFEE SUGAR TINS PANTRY</td>\n",
              "      <td>1412</td>\n",
              "      <td>9/20/2011 11:05</td>\n",
              "      <td>5.06</td>\n",
              "      <td>17450</td>\n",
              "      <td>United Kingdom</td>\n",
              "      <td>No</td>\n",
              "      <td>7144.72</td>\n",
              "    </tr>\n",
              "  </tbody>\n",
              "</table>\n",
              "</div>"
            ],
            "text/plain": [
              "    index invoiceno stockcode                          description  quantity  \\\n",
              "0  540421    581483     23843          PAPER CRAFT , LITTLE BIRDIE     80995   \n",
              "1   61619    541431     23166       MEDIUM CERAMIC TOP STORAGE JAR     74215   \n",
              "2  222680    556444     22502       PICNIC BASKET WICKER 60 PIECES        60   \n",
              "3  173382    551697      POST                              POSTAGE         1   \n",
              "4  348325    567423     23243  SET OF TEA COFFEE SUGAR TINS PANTRY      1412   \n",
              "\n",
              "       invoicedate  unitprice customerid         country canceled  total_price  \n",
              "0   12/9/2011 9:15       2.08      16446  United Kingdom       No    168469.60  \n",
              "1  1/18/2011 10:01       1.04      12346  United Kingdom       No     77183.60  \n",
              "2  6/10/2011 15:28     649.50      15098  United Kingdom       No     38970.00  \n",
              "3   5/3/2011 13:46    8142.75      16029  United Kingdom       No      8142.75  \n",
              "4  9/20/2011 11:05       5.06      17450  United Kingdom       No      7144.72  "
            ]
          },
          "execution_count": 214,
          "metadata": {},
          "output_type": "execute_result"
        }
      ],
      "source": [
        "#Sorting values according to its total price\n",
        "df.sort_values('total_price', ascending = False).head().reset_index()"
      ]
    },
    {
      "cell_type": "code",
      "execution_count": null,
      "id": "9a953521",
      "metadata": {
        "id": "9a953521",
        "outputId": "69b9bea0-5150-4192-a67a-fefcb26b61c2"
      },
      "outputs": [
        {
          "data": {
            "text/plain": [
              "country\n",
              "United Kingdom     354345\n",
              "Germany              9042\n",
              "France               8342\n",
              "EIRE                 7238\n",
              "Spain                2485\n",
              "Netherlands          2363\n",
              "Belgium              2031\n",
              "Switzerland          1842\n",
              "Portugal             1462\n",
              "Australia            1185\n",
              "Norway               1072\n",
              "Italy                 758\n",
              "Channel Islands       748\n",
              "Finland               685\n",
              "Cyprus                614\n",
              "Sweden                451\n",
              "Austria               398\n",
              "Denmark               380\n",
              "Poland                330\n",
              "Japan                 321\n",
              "Name: total_price, dtype: int64"
            ]
          },
          "execution_count": 215,
          "metadata": {},
          "output_type": "execute_result"
        }
      ],
      "source": [
        "#Number of products sold by country\n",
        "product_country = df.groupby('country').count()['total_price'].sort_values(ascending = False).head(20)\n",
        "product_country"
      ]
    },
    {
      "cell_type": "code",
      "execution_count": null,
      "id": "52a2c934",
      "metadata": {
        "id": "52a2c934",
        "outputId": "03af2b11-2607-4216-efd8-4d7230a49d2d"
      },
      "outputs": [
        {
          "data": {
            "text/plain": [
              "datetime.date(2011, 12, 9)"
            ]
          },
          "execution_count": 216,
          "metadata": {},
          "output_type": "execute_result"
        }
      ],
      "source": [
        "present = dt.date(2011, 12, 9)\n",
        "present\n"
      ]
    },
    {
      "cell_type": "code",
      "execution_count": null,
      "id": "cbed3d87",
      "metadata": {
        "id": "cbed3d87"
      },
      "outputs": [],
      "source": [
        "today_date = dt.datetime(2011,12,11)"
      ]
    },
    {
      "cell_type": "code",
      "execution_count": null,
      "id": "85d232d3",
      "metadata": {
        "id": "85d232d3",
        "outputId": "71feebee-b9e8-4523-b3ea-0013d559958f"
      },
      "outputs": [
        {
          "data": {
            "text/html": [
              "<div>\n",
              "<style scoped>\n",
              "    .dataframe tbody tr th:only-of-type {\n",
              "        vertical-align: middle;\n",
              "    }\n",
              "\n",
              "    .dataframe tbody tr th {\n",
              "        vertical-align: top;\n",
              "    }\n",
              "\n",
              "    .dataframe thead th {\n",
              "        text-align: right;\n",
              "    }\n",
              "</style>\n",
              "<table border=\"1\" class=\"dataframe\">\n",
              "  <thead>\n",
              "    <tr style=\"text-align: right;\">\n",
              "      <th></th>\n",
              "      <th>invoiceno</th>\n",
              "      <th>stockcode</th>\n",
              "      <th>description</th>\n",
              "      <th>quantity</th>\n",
              "      <th>invoicedate</th>\n",
              "      <th>unitprice</th>\n",
              "      <th>customerid</th>\n",
              "      <th>country</th>\n",
              "      <th>canceled</th>\n",
              "      <th>total_price</th>\n",
              "    </tr>\n",
              "  </thead>\n",
              "  <tbody>\n",
              "    <tr>\n",
              "      <th>0</th>\n",
              "      <td>536365</td>\n",
              "      <td>85123A</td>\n",
              "      <td>WHITE HANGING HEART T-LIGHT HOLDER</td>\n",
              "      <td>6</td>\n",
              "      <td>12/1/2010 8:26</td>\n",
              "      <td>2.55</td>\n",
              "      <td>17850</td>\n",
              "      <td>United Kingdom</td>\n",
              "      <td>No</td>\n",
              "      <td>15.3</td>\n",
              "    </tr>\n",
              "  </tbody>\n",
              "</table>\n",
              "</div>"
            ],
            "text/plain": [
              "  invoiceno stockcode                         description  quantity  \\\n",
              "0    536365    85123A  WHITE HANGING HEART T-LIGHT HOLDER         6   \n",
              "\n",
              "      invoicedate  unitprice customerid         country canceled  total_price  \n",
              "0  12/1/2010 8:26       2.55      17850  United Kingdom       No         15.3  "
            ]
          },
          "execution_count": 218,
          "metadata": {},
          "output_type": "execute_result"
        }
      ],
      "source": [
        "df.head(1)"
      ]
    },
    {
      "cell_type": "markdown",
      "id": "08ee0c47",
      "metadata": {
        "id": "08ee0c47"
      },
      "source": [
        "### Creating RFM table"
      ]
    },
    {
      "cell_type": "code",
      "execution_count": null,
      "id": "733aaa13",
      "metadata": {
        "id": "733aaa13",
        "outputId": "b5019ade-4cb0-48bb-a571-2e2aed7292a1"
      },
      "outputs": [
        {
          "data": {
            "text/plain": [
              "0   2010-12-01 08:26:00\n",
              "1   2010-12-01 08:26:00\n",
              "2   2010-12-01 08:26:00\n",
              "3   2010-12-01 08:26:00\n",
              "4   2010-12-01 08:26:00\n",
              "Name: invoicedate, dtype: datetime64[ns]"
            ]
          },
          "execution_count": 219,
          "metadata": {},
          "output_type": "execute_result"
        }
      ],
      "source": [
        "## Change the format of the invoice_date \n",
        "\n",
        "df['invoicedate'] = pd.to_datetime(df['invoicedate'])\n",
        "df['invoicedate'].head()"
      ]
    },
    {
      "cell_type": "code",
      "execution_count": null,
      "id": "62315a73",
      "metadata": {
        "id": "62315a73",
        "outputId": "75b1a3a5-fa00-4cf6-a8db-5dc3fd193b1c"
      },
      "outputs": [
        {
          "data": {
            "text/html": [
              "<div>\n",
              "<style scoped>\n",
              "    .dataframe tbody tr th:only-of-type {\n",
              "        vertical-align: middle;\n",
              "    }\n",
              "\n",
              "    .dataframe tbody tr th {\n",
              "        vertical-align: top;\n",
              "    }\n",
              "\n",
              "    .dataframe thead th {\n",
              "        text-align: right;\n",
              "    }\n",
              "</style>\n",
              "<table border=\"1\" class=\"dataframe\">\n",
              "  <thead>\n",
              "    <tr style=\"text-align: right;\">\n",
              "      <th></th>\n",
              "      <th>customerid</th>\n",
              "      <th>invoicedate</th>\n",
              "      <th>invoiceno</th>\n",
              "      <th>total_price</th>\n",
              "    </tr>\n",
              "  </thead>\n",
              "  <tbody>\n",
              "    <tr>\n",
              "      <th>0</th>\n",
              "      <td>12346</td>\n",
              "      <td>326</td>\n",
              "      <td>1</td>\n",
              "      <td>77183.60</td>\n",
              "    </tr>\n",
              "    <tr>\n",
              "      <th>1</th>\n",
              "      <td>12347</td>\n",
              "      <td>3</td>\n",
              "      <td>7</td>\n",
              "      <td>4310.00</td>\n",
              "    </tr>\n",
              "    <tr>\n",
              "      <th>2</th>\n",
              "      <td>12348</td>\n",
              "      <td>76</td>\n",
              "      <td>4</td>\n",
              "      <td>1797.24</td>\n",
              "    </tr>\n",
              "    <tr>\n",
              "      <th>3</th>\n",
              "      <td>12349</td>\n",
              "      <td>19</td>\n",
              "      <td>1</td>\n",
              "      <td>1757.55</td>\n",
              "    </tr>\n",
              "    <tr>\n",
              "      <th>4</th>\n",
              "      <td>12350</td>\n",
              "      <td>311</td>\n",
              "      <td>1</td>\n",
              "      <td>334.40</td>\n",
              "    </tr>\n",
              "  </tbody>\n",
              "</table>\n",
              "</div>"
            ],
            "text/plain": [
              "  customerid  invoicedate  invoiceno  total_price\n",
              "0      12346          326          1     77183.60\n",
              "1      12347            3          7      4310.00\n",
              "2      12348           76          4      1797.24\n",
              "3      12349           19          1      1757.55\n",
              "4      12350          311          1       334.40"
            ]
          },
          "execution_count": 220,
          "metadata": {},
          "output_type": "execute_result"
        }
      ],
      "source": [
        "\n",
        "\n",
        "rfm =df.groupby('customerid').agg({'invoicedate' : lambda invoicedate : (today_date - invoicedate.max()).days,\n",
        "                             'invoiceno':lambda invoiceno: invoiceno.nunique(),\n",
        "                             'total_price': lambda total_price: total_price.sum()})\n",
        "# Printing the dataframe\n",
        "rfm.reset_index(level=0, inplace=True)\n",
        "rfm.head()"
      ]
    },
    {
      "cell_type": "code",
      "execution_count": null,
      "id": "98b01f43",
      "metadata": {
        "id": "98b01f43",
        "outputId": "472776eb-aaf6-4338-a54f-cd13a8dce44c"
      },
      "outputs": [
        {
          "data": {
            "text/html": [
              "<div>\n",
              "<style scoped>\n",
              "    .dataframe tbody tr th:only-of-type {\n",
              "        vertical-align: middle;\n",
              "    }\n",
              "\n",
              "    .dataframe tbody tr th {\n",
              "        vertical-align: top;\n",
              "    }\n",
              "\n",
              "    .dataframe thead th {\n",
              "        text-align: right;\n",
              "    }\n",
              "</style>\n",
              "<table border=\"1\" class=\"dataframe\">\n",
              "  <thead>\n",
              "    <tr style=\"text-align: right;\">\n",
              "      <th></th>\n",
              "      <th>customerid</th>\n",
              "      <th>recency</th>\n",
              "      <th>frequency</th>\n",
              "      <th>monetary</th>\n",
              "    </tr>\n",
              "  </thead>\n",
              "  <tbody>\n",
              "    <tr>\n",
              "      <th>0</th>\n",
              "      <td>12346</td>\n",
              "      <td>326</td>\n",
              "      <td>1</td>\n",
              "      <td>77183.60</td>\n",
              "    </tr>\n",
              "    <tr>\n",
              "      <th>1</th>\n",
              "      <td>12347</td>\n",
              "      <td>3</td>\n",
              "      <td>7</td>\n",
              "      <td>4310.00</td>\n",
              "    </tr>\n",
              "    <tr>\n",
              "      <th>2</th>\n",
              "      <td>12348</td>\n",
              "      <td>76</td>\n",
              "      <td>4</td>\n",
              "      <td>1797.24</td>\n",
              "    </tr>\n",
              "    <tr>\n",
              "      <th>3</th>\n",
              "      <td>12349</td>\n",
              "      <td>19</td>\n",
              "      <td>1</td>\n",
              "      <td>1757.55</td>\n",
              "    </tr>\n",
              "    <tr>\n",
              "      <th>4</th>\n",
              "      <td>12350</td>\n",
              "      <td>311</td>\n",
              "      <td>1</td>\n",
              "      <td>334.40</td>\n",
              "    </tr>\n",
              "    <tr>\n",
              "      <th>...</th>\n",
              "      <td>...</td>\n",
              "      <td>...</td>\n",
              "      <td>...</td>\n",
              "      <td>...</td>\n",
              "    </tr>\n",
              "    <tr>\n",
              "      <th>4334</th>\n",
              "      <td>18280</td>\n",
              "      <td>278</td>\n",
              "      <td>1</td>\n",
              "      <td>180.60</td>\n",
              "    </tr>\n",
              "    <tr>\n",
              "      <th>4335</th>\n",
              "      <td>18281</td>\n",
              "      <td>181</td>\n",
              "      <td>1</td>\n",
              "      <td>80.82</td>\n",
              "    </tr>\n",
              "    <tr>\n",
              "      <th>4336</th>\n",
              "      <td>18282</td>\n",
              "      <td>8</td>\n",
              "      <td>2</td>\n",
              "      <td>178.05</td>\n",
              "    </tr>\n",
              "    <tr>\n",
              "      <th>4337</th>\n",
              "      <td>18283</td>\n",
              "      <td>4</td>\n",
              "      <td>16</td>\n",
              "      <td>2094.88</td>\n",
              "    </tr>\n",
              "    <tr>\n",
              "      <th>4338</th>\n",
              "      <td>18287</td>\n",
              "      <td>43</td>\n",
              "      <td>3</td>\n",
              "      <td>1837.28</td>\n",
              "    </tr>\n",
              "  </tbody>\n",
              "</table>\n",
              "<p>4339 rows × 4 columns</p>\n",
              "</div>"
            ],
            "text/plain": [
              "     customerid  recency  frequency  monetary\n",
              "0         12346      326          1  77183.60\n",
              "1         12347        3          7   4310.00\n",
              "2         12348       76          4   1797.24\n",
              "3         12349       19          1   1757.55\n",
              "4         12350      311          1    334.40\n",
              "...         ...      ...        ...       ...\n",
              "4334      18280      278          1    180.60\n",
              "4335      18281      181          1     80.82\n",
              "4336      18282        8          2    178.05\n",
              "4337      18283        4         16   2094.88\n",
              "4338      18287       43          3   1837.28\n",
              "\n",
              "[4339 rows x 4 columns]"
            ]
          },
          "execution_count": 221,
          "metadata": {},
          "output_type": "execute_result"
        }
      ],
      "source": [
        "rfm.columns = ['customerid', 'recency', 'frequency', 'monetary']\n",
        "rfm\n"
      ]
    },
    {
      "cell_type": "code",
      "execution_count": null,
      "id": "f5f1efad",
      "metadata": {
        "id": "f5f1efad",
        "outputId": "bc94b182-4afc-460d-d39e-abee5970858d"
      },
      "outputs": [
        {
          "data": {
            "text/plain": [
              "<AxesSubplot:>"
            ]
          },
          "execution_count": 222,
          "metadata": {},
          "output_type": "execute_result"
        },
        {
          "data": {
            "image/png": "[encoded data removed]",
            "text/plain": [
              "<Figure size 936x504 with 1 Axes>"
            ]
          },
          "metadata": {},
          "output_type": "display_data"
        }
      ],
      "source": [
        "\n",
        "#set sns theme\n",
        "sns.set_theme(style=\"whitegrid\")\n",
        "\n",
        "#set plot size\n",
        "fig, ax = plt.subplots(figsize=(13, 7))\n",
        "\n",
        "rfm.boxplot(grid=False, rot=45, fontsize=15)\n"
      ]
    },
    {
      "cell_type": "code",
      "execution_count": null,
      "id": "a72d4600",
      "metadata": {
        "id": "a72d4600",
        "outputId": "ad65598e-4015-4780-e0a3-87ea30fe7644"
      },
      "outputs": [
        {
          "data": {
            "text/html": [
              "<div>\n",
              "<style scoped>\n",
              "    .dataframe tbody tr th:only-of-type {\n",
              "        vertical-align: middle;\n",
              "    }\n",
              "\n",
              "    .dataframe tbody tr th {\n",
              "        vertical-align: top;\n",
              "    }\n",
              "\n",
              "    .dataframe thead th {\n",
              "        text-align: right;\n",
              "    }\n",
              "</style>\n",
              "<table border=\"1\" class=\"dataframe\">\n",
              "  <thead>\n",
              "    <tr style=\"text-align: right;\">\n",
              "      <th></th>\n",
              "      <th>customerid</th>\n",
              "      <th>recency</th>\n",
              "      <th>frequency</th>\n",
              "      <th>monetary</th>\n",
              "    </tr>\n",
              "  </thead>\n",
              "  <tbody>\n",
              "    <tr>\n",
              "      <th>326</th>\n",
              "      <td>12748</td>\n",
              "      <td>1</td>\n",
              "      <td>210</td>\n",
              "      <td>33719.73</td>\n",
              "    </tr>\n",
              "    <tr>\n",
              "      <th>1880</th>\n",
              "      <td>14911</td>\n",
              "      <td>2</td>\n",
              "      <td>201</td>\n",
              "      <td>143825.06</td>\n",
              "    </tr>\n",
              "    <tr>\n",
              "      <th>4011</th>\n",
              "      <td>17841</td>\n",
              "      <td>2</td>\n",
              "      <td>124</td>\n",
              "      <td>40991.57</td>\n",
              "    </tr>\n",
              "    <tr>\n",
              "      <th>562</th>\n",
              "      <td>13089</td>\n",
              "      <td>3</td>\n",
              "      <td>97</td>\n",
              "      <td>58825.83</td>\n",
              "    </tr>\n",
              "    <tr>\n",
              "      <th>1662</th>\n",
              "      <td>14606</td>\n",
              "      <td>2</td>\n",
              "      <td>93</td>\n",
              "      <td>12156.65</td>\n",
              "    </tr>\n",
              "  </tbody>\n",
              "</table>\n",
              "</div>"
            ],
            "text/plain": [
              "     customerid  recency  frequency   monetary\n",
              "326       12748        1        210   33719.73\n",
              "1880      14911        2        201  143825.06\n",
              "4011      17841        2        124   40991.57\n",
              "562       13089        3         97   58825.83\n",
              "1662      14606        2         93   12156.65"
            ]
          },
          "execution_count": 223,
          "metadata": {},
          "output_type": "execute_result"
        }
      ],
      "source": [
        "#top 10 customers based on frequency and monetary values\n",
        "# first we well sort on frequency and then on monetary values\n",
        "#Below are top 10 customers after sorting\n",
        "\n",
        "rfm.sort_values(['frequency', 'monetary'], ascending = [False, False], inplace = True)\n",
        "rfm.head()"
      ]
    },
    {
      "cell_type": "code",
      "execution_count": null,
      "id": "e866b914",
      "metadata": {
        "id": "e866b914"
      },
      "outputs": [],
      "source": [
        "rfm_new = rfm.copy()"
      ]
    },
    {
      "cell_type": "code",
      "execution_count": null,
      "id": "657db067",
      "metadata": {
        "id": "657db067",
        "outputId": "62d2c452-09a9-43fd-f8d2-be4a550c3376"
      },
      "outputs": [
        {
          "data": {
            "text/html": [
              "<div>\n",
              "<style scoped>\n",
              "    .dataframe tbody tr th:only-of-type {\n",
              "        vertical-align: middle;\n",
              "    }\n",
              "\n",
              "    .dataframe tbody tr th {\n",
              "        vertical-align: top;\n",
              "    }\n",
              "\n",
              "    .dataframe thead th {\n",
              "        text-align: right;\n",
              "    }\n",
              "</style>\n",
              "<table border=\"1\" class=\"dataframe\">\n",
              "  <thead>\n",
              "    <tr style=\"text-align: right;\">\n",
              "      <th></th>\n",
              "      <th>customerid</th>\n",
              "      <th>recency</th>\n",
              "      <th>frequency</th>\n",
              "      <th>monetary</th>\n",
              "      <th>recency_score</th>\n",
              "      <th>frequency_score</th>\n",
              "      <th>monetary_score</th>\n",
              "    </tr>\n",
              "  </thead>\n",
              "  <tbody>\n",
              "    <tr>\n",
              "      <th>326</th>\n",
              "      <td>12748</td>\n",
              "      <td>1</td>\n",
              "      <td>210</td>\n",
              "      <td>33719.73</td>\n",
              "      <td>1</td>\n",
              "      <td>5</td>\n",
              "      <td>5</td>\n",
              "    </tr>\n",
              "    <tr>\n",
              "      <th>1880</th>\n",
              "      <td>14911</td>\n",
              "      <td>2</td>\n",
              "      <td>201</td>\n",
              "      <td>143825.06</td>\n",
              "      <td>1</td>\n",
              "      <td>5</td>\n",
              "      <td>5</td>\n",
              "    </tr>\n",
              "    <tr>\n",
              "      <th>4011</th>\n",
              "      <td>17841</td>\n",
              "      <td>2</td>\n",
              "      <td>124</td>\n",
              "      <td>40991.57</td>\n",
              "      <td>1</td>\n",
              "      <td>5</td>\n",
              "      <td>5</td>\n",
              "    </tr>\n",
              "    <tr>\n",
              "      <th>562</th>\n",
              "      <td>13089</td>\n",
              "      <td>3</td>\n",
              "      <td>97</td>\n",
              "      <td>58825.83</td>\n",
              "      <td>1</td>\n",
              "      <td>5</td>\n",
              "      <td>5</td>\n",
              "    </tr>\n",
              "    <tr>\n",
              "      <th>1662</th>\n",
              "      <td>14606</td>\n",
              "      <td>2</td>\n",
              "      <td>93</td>\n",
              "      <td>12156.65</td>\n",
              "      <td>1</td>\n",
              "      <td>5</td>\n",
              "      <td>5</td>\n",
              "    </tr>\n",
              "  </tbody>\n",
              "</table>\n",
              "</div>"
            ],
            "text/plain": [
              "     customerid  recency  frequency   monetary recency_score frequency_score  \\\n",
              "326       12748        1        210   33719.73             1               5   \n",
              "1880      14911        2        201  143825.06             1               5   \n",
              "4011      17841        2        124   40991.57             1               5   \n",
              "562       13089        3         97   58825.83             1               5   \n",
              "1662      14606        2         93   12156.65             1               5   \n",
              "\n",
              "     monetary_score  \n",
              "326               5  \n",
              "1880              5  \n",
              "4011              5  \n",
              "562               5  \n",
              "1662              5  "
            ]
          },
          "execution_count": 225,
          "metadata": {},
          "output_type": "execute_result"
        }
      ],
      "source": [
        "# we will divide our columns in 5 quartiles.\n",
        "rfm['recency_score'] = pd.qcut(rfm['recency'], 5, labels = range(1,6,1))\n",
        "rfm['frequency_score'] = pd.qcut(rfm['frequency'].rank(method = 'first'), 5, labels = range(1, 6, 1))\n",
        "rfm['monetary_score'] = pd.qcut(rfm['monetary'], 5, labels = range(1,6,1))\n",
        "\n",
        "rfm.head()\n",
        "\n",
        "\n"
      ]
    },
    {
      "cell_type": "code",
      "execution_count": null,
      "id": "02a55ef5",
      "metadata": {
        "id": "02a55ef5",
        "outputId": "b88e0b92-74d9-41f0-9267-4369eda3f0b4"
      },
      "outputs": [
        {
          "name": "stdout",
          "output_type": "stream",
          "text": [
            "<class 'pandas.core.frame.DataFrame'>\n",
            "Int64Index: 4339 entries, 326 to 685\n",
            "Data columns (total 1 columns):\n",
            " #   Column           Non-Null Count  Dtype   \n",
            "---  ------           --------------  -----   \n",
            " 0   frequency_score  4339 non-null   category\n",
            "dtypes: category(1)\n",
            "memory usage: 38.3 KB\n"
          ]
        }
      ],
      "source": [
        "rfm[['frequency_score']].info()"
      ]
    },
    {
      "cell_type": "code",
      "execution_count": null,
      "id": "592f3034",
      "metadata": {
        "id": "592f3034",
        "outputId": "4e2b7149-5908-472a-8a62-0d7757ad6269"
      },
      "outputs": [
        {
          "data": {
            "text/html": [
              "<div>\n",
              "<style scoped>\n",
              "    .dataframe tbody tr th:only-of-type {\n",
              "        vertical-align: middle;\n",
              "    }\n",
              "\n",
              "    .dataframe tbody tr th {\n",
              "        vertical-align: top;\n",
              "    }\n",
              "\n",
              "    .dataframe thead th {\n",
              "        text-align: right;\n",
              "    }\n",
              "</style>\n",
              "<table border=\"1\" class=\"dataframe\">\n",
              "  <thead>\n",
              "    <tr style=\"text-align: right;\">\n",
              "      <th></th>\n",
              "      <th>customerid</th>\n",
              "      <th>recency</th>\n",
              "      <th>frequency</th>\n",
              "      <th>monetary</th>\n",
              "      <th>recency_score</th>\n",
              "      <th>frequency_score</th>\n",
              "      <th>monetary_score</th>\n",
              "      <th>RFM_Score</th>\n",
              "      <th>RFM_Segmentation</th>\n",
              "    </tr>\n",
              "  </thead>\n",
              "  <tbody>\n",
              "    <tr>\n",
              "      <th>326</th>\n",
              "      <td>12748</td>\n",
              "      <td>1</td>\n",
              "      <td>210</td>\n",
              "      <td>33719.73</td>\n",
              "      <td>1</td>\n",
              "      <td>5</td>\n",
              "      <td>5</td>\n",
              "      <td>11</td>\n",
              "      <td>155</td>\n",
              "    </tr>\n",
              "    <tr>\n",
              "      <th>1880</th>\n",
              "      <td>14911</td>\n",
              "      <td>2</td>\n",
              "      <td>201</td>\n",
              "      <td>143825.06</td>\n",
              "      <td>1</td>\n",
              "      <td>5</td>\n",
              "      <td>5</td>\n",
              "      <td>11</td>\n",
              "      <td>155</td>\n",
              "    </tr>\n",
              "    <tr>\n",
              "      <th>4011</th>\n",
              "      <td>17841</td>\n",
              "      <td>2</td>\n",
              "      <td>124</td>\n",
              "      <td>40991.57</td>\n",
              "      <td>1</td>\n",
              "      <td>5</td>\n",
              "      <td>5</td>\n",
              "      <td>11</td>\n",
              "      <td>155</td>\n",
              "    </tr>\n",
              "    <tr>\n",
              "      <th>562</th>\n",
              "      <td>13089</td>\n",
              "      <td>3</td>\n",
              "      <td>97</td>\n",
              "      <td>58825.83</td>\n",
              "      <td>1</td>\n",
              "      <td>5</td>\n",
              "      <td>5</td>\n",
              "      <td>11</td>\n",
              "      <td>155</td>\n",
              "    </tr>\n",
              "    <tr>\n",
              "      <th>1662</th>\n",
              "      <td>14606</td>\n",
              "      <td>2</td>\n",
              "      <td>93</td>\n",
              "      <td>12156.65</td>\n",
              "      <td>1</td>\n",
              "      <td>5</td>\n",
              "      <td>5</td>\n",
              "      <td>11</td>\n",
              "      <td>155</td>\n",
              "    </tr>\n",
              "    <tr>\n",
              "      <th>...</th>\n",
              "      <td>...</td>\n",
              "      <td>...</td>\n",
              "      <td>...</td>\n",
              "      <td>...</td>\n",
              "      <td>...</td>\n",
              "      <td>...</td>\n",
              "      <td>...</td>\n",
              "      <td>...</td>\n",
              "      <td>...</td>\n",
              "    </tr>\n",
              "    <tr>\n",
              "      <th>3324</th>\n",
              "      <td>16878</td>\n",
              "      <td>85</td>\n",
              "      <td>1</td>\n",
              "      <td>13.30</td>\n",
              "      <td>4</td>\n",
              "      <td>2</td>\n",
              "      <td>1</td>\n",
              "      <td>7</td>\n",
              "      <td>421</td>\n",
              "    </tr>\n",
              "    <tr>\n",
              "      <th>4099</th>\n",
              "      <td>17956</td>\n",
              "      <td>250</td>\n",
              "      <td>1</td>\n",
              "      <td>12.75</td>\n",
              "      <td>5</td>\n",
              "      <td>2</td>\n",
              "      <td>1</td>\n",
              "      <td>8</td>\n",
              "      <td>521</td>\n",
              "    </tr>\n",
              "    <tr>\n",
              "      <th>1794</th>\n",
              "      <td>14792</td>\n",
              "      <td>64</td>\n",
              "      <td>1</td>\n",
              "      <td>6.20</td>\n",
              "      <td>3</td>\n",
              "      <td>2</td>\n",
              "      <td>1</td>\n",
              "      <td>6</td>\n",
              "      <td>321</td>\n",
              "    </tr>\n",
              "    <tr>\n",
              "      <th>3218</th>\n",
              "      <td>16738</td>\n",
              "      <td>298</td>\n",
              "      <td>1</td>\n",
              "      <td>3.75</td>\n",
              "      <td>5</td>\n",
              "      <td>2</td>\n",
              "      <td>1</td>\n",
              "      <td>8</td>\n",
              "      <td>521</td>\n",
              "    </tr>\n",
              "    <tr>\n",
              "      <th>685</th>\n",
              "      <td>13256</td>\n",
              "      <td>15</td>\n",
              "      <td>1</td>\n",
              "      <td>0.00</td>\n",
              "      <td>2</td>\n",
              "      <td>2</td>\n",
              "      <td>1</td>\n",
              "      <td>5</td>\n",
              "      <td>221</td>\n",
              "    </tr>\n",
              "  </tbody>\n",
              "</table>\n",
              "<p>4339 rows × 9 columns</p>\n",
              "</div>"
            ],
            "text/plain": [
              "     customerid  recency  frequency   monetary recency_score frequency_score  \\\n",
              "326       12748        1        210   33719.73             1               5   \n",
              "1880      14911        2        201  143825.06             1               5   \n",
              "4011      17841        2        124   40991.57             1               5   \n",
              "562       13089        3         97   58825.83             1               5   \n",
              "1662      14606        2         93   12156.65             1               5   \n",
              "...         ...      ...        ...        ...           ...             ...   \n",
              "3324      16878       85          1      13.30             4               2   \n",
              "4099      17956      250          1      12.75             5               2   \n",
              "1794      14792       64          1       6.20             3               2   \n",
              "3218      16738      298          1       3.75             5               2   \n",
              "685       13256       15          1       0.00             2               2   \n",
              "\n",
              "     monetary_score  RFM_Score RFM_Segmentation  \n",
              "326               5         11              155  \n",
              "1880              5         11              155  \n",
              "4011              5         11              155  \n",
              "562               5         11              155  \n",
              "1662              5         11              155  \n",
              "...             ...        ...              ...  \n",
              "3324              1          7              421  \n",
              "4099              1          8              521  \n",
              "1794              1          6              321  \n",
              "3218              1          8              521  \n",
              "685               1          5              221  \n",
              "\n",
              "[4339 rows x 9 columns]"
            ]
          },
          "execution_count": 227,
          "metadata": {},
          "output_type": "execute_result"
        }
      ],
      "source": [
        "\n",
        "rfm['RFM_Score'] = rfm[['recency_score', 'frequency_score', 'monetary_score']].sum(axis = 1).astype(int)\n",
        "\n",
        "\n",
        "rfm['RFM_Segmentation'] = rfm['recency_score'].astype(str) + rfm['frequency_score'].astype(str)+ rfm['monetary_score'].astype(str)\n",
        "\n",
        "rfm"
      ]
    },
    {
      "cell_type": "code",
      "execution_count": null,
      "id": "d432dcac",
      "metadata": {
        "id": "d432dcac",
        "outputId": "eefb549c-5ff4-4013-9a82-7f9570ae8031"
      },
      "outputs": [
        {
          "data": {
            "image/png": "[encoded data removed]",
            "text/plain": [
              "<Figure size 1440x360 with 1 Axes>"
            ]
          },
          "metadata": {},
          "output_type": "display_data"
        }
      ],
      "source": [
        "#set sns theme\n",
        "sns.set_theme(style = \"whitegrid\")\n",
        "\n",
        "#set plot size\n",
        "fig ,ax = plt.subplots(figsize = (20, 5))\n",
        "\n",
        "#plot of each RFM segment\n",
        "\n",
        "sns.countplot(x=\"RFM_Segmentation\", data = rfm)\n",
        "plt.xticks(rotation = 45)\n",
        "plt.show()\n",
        "\n"
      ]
    },
    {
      "cell_type": "code",
      "execution_count": null,
      "id": "43169a20",
      "metadata": {
        "id": "43169a20"
      },
      "outputs": [],
      "source": [
        "#Creating a column according to the customers score\n",
        "# Create a new column accordingly to the customers score \n",
        "\n",
        "def rank(a):\n",
        "    \n",
        "    if (a>=0) and (a<=3):\n",
        "        return 'Basic'\n",
        "    \n",
        "    elif (a<=7):\n",
        "        return 'Advanced'\n",
        "    \n",
        "    elif (a<=13):\n",
        "        return 'Gold'\n",
        "    \n",
        "    else:\n",
        "        return 'Platinum'"
      ]
    },
    {
      "cell_type": "code",
      "execution_count": null,
      "id": "76306661",
      "metadata": {
        "id": "76306661",
        "outputId": "235ccaec-7309-414d-f9ab-fe4904b62889"
      },
      "outputs": [
        {
          "data": {
            "text/html": [
              "<div>\n",
              "<style scoped>\n",
              "    .dataframe tbody tr th:only-of-type {\n",
              "        vertical-align: middle;\n",
              "    }\n",
              "\n",
              "    .dataframe tbody tr th {\n",
              "        vertical-align: top;\n",
              "    }\n",
              "\n",
              "    .dataframe thead th {\n",
              "        text-align: right;\n",
              "    }\n",
              "</style>\n",
              "<table border=\"1\" class=\"dataframe\">\n",
              "  <thead>\n",
              "    <tr style=\"text-align: right;\">\n",
              "      <th></th>\n",
              "      <th>index</th>\n",
              "      <th>customerid</th>\n",
              "      <th>recency</th>\n",
              "      <th>frequency</th>\n",
              "      <th>monetary</th>\n",
              "      <th>recency_score</th>\n",
              "      <th>frequency_score</th>\n",
              "      <th>monetary_score</th>\n",
              "      <th>RFM_Score</th>\n",
              "      <th>RFM_Segmentation</th>\n",
              "      <th>Rank_id</th>\n",
              "    </tr>\n",
              "  </thead>\n",
              "  <tbody>\n",
              "    <tr>\n",
              "      <th>0</th>\n",
              "      <td>4123</td>\n",
              "      <td>17986</td>\n",
              "      <td>57</td>\n",
              "      <td>1</td>\n",
              "      <td>20.80</td>\n",
              "      <td>3</td>\n",
              "      <td>2</td>\n",
              "      <td>1</td>\n",
              "      <td>6</td>\n",
              "      <td>321</td>\n",
              "      <td>Advanced</td>\n",
              "    </tr>\n",
              "    <tr>\n",
              "      <th>1</th>\n",
              "      <td>2745</td>\n",
              "      <td>16093</td>\n",
              "      <td>107</td>\n",
              "      <td>1</td>\n",
              "      <td>17.00</td>\n",
              "      <td>4</td>\n",
              "      <td>2</td>\n",
              "      <td>1</td>\n",
              "      <td>7</td>\n",
              "      <td>421</td>\n",
              "      <td>Advanced</td>\n",
              "    </tr>\n",
              "    <tr>\n",
              "      <th>2</th>\n",
              "      <td>723</td>\n",
              "      <td>13307</td>\n",
              "      <td>121</td>\n",
              "      <td>1</td>\n",
              "      <td>15.00</td>\n",
              "      <td>4</td>\n",
              "      <td>2</td>\n",
              "      <td>1</td>\n",
              "      <td>7</td>\n",
              "      <td>421</td>\n",
              "      <td>Advanced</td>\n",
              "    </tr>\n",
              "    <tr>\n",
              "      <th>3</th>\n",
              "      <td>2559</td>\n",
              "      <td>15823</td>\n",
              "      <td>373</td>\n",
              "      <td>1</td>\n",
              "      <td>15.00</td>\n",
              "      <td>5</td>\n",
              "      <td>2</td>\n",
              "      <td>1</td>\n",
              "      <td>8</td>\n",
              "      <td>521</td>\n",
              "      <td>Gold</td>\n",
              "    </tr>\n",
              "    <tr>\n",
              "      <th>4</th>\n",
              "      <td>3961</td>\n",
              "      <td>17763</td>\n",
              "      <td>264</td>\n",
              "      <td>1</td>\n",
              "      <td>15.00</td>\n",
              "      <td>5</td>\n",
              "      <td>2</td>\n",
              "      <td>1</td>\n",
              "      <td>8</td>\n",
              "      <td>521</td>\n",
              "      <td>Gold</td>\n",
              "    </tr>\n",
              "    <tr>\n",
              "      <th>5</th>\n",
              "      <td>3324</td>\n",
              "      <td>16878</td>\n",
              "      <td>85</td>\n",
              "      <td>1</td>\n",
              "      <td>13.30</td>\n",
              "      <td>4</td>\n",
              "      <td>2</td>\n",
              "      <td>1</td>\n",
              "      <td>7</td>\n",
              "      <td>421</td>\n",
              "      <td>Advanced</td>\n",
              "    </tr>\n",
              "    <tr>\n",
              "      <th>6</th>\n",
              "      <td>4099</td>\n",
              "      <td>17956</td>\n",
              "      <td>250</td>\n",
              "      <td>1</td>\n",
              "      <td>12.75</td>\n",
              "      <td>5</td>\n",
              "      <td>2</td>\n",
              "      <td>1</td>\n",
              "      <td>8</td>\n",
              "      <td>521</td>\n",
              "      <td>Gold</td>\n",
              "    </tr>\n",
              "    <tr>\n",
              "      <th>7</th>\n",
              "      <td>1794</td>\n",
              "      <td>14792</td>\n",
              "      <td>64</td>\n",
              "      <td>1</td>\n",
              "      <td>6.20</td>\n",
              "      <td>3</td>\n",
              "      <td>2</td>\n",
              "      <td>1</td>\n",
              "      <td>6</td>\n",
              "      <td>321</td>\n",
              "      <td>Advanced</td>\n",
              "    </tr>\n",
              "    <tr>\n",
              "      <th>8</th>\n",
              "      <td>3218</td>\n",
              "      <td>16738</td>\n",
              "      <td>298</td>\n",
              "      <td>1</td>\n",
              "      <td>3.75</td>\n",
              "      <td>5</td>\n",
              "      <td>2</td>\n",
              "      <td>1</td>\n",
              "      <td>8</td>\n",
              "      <td>521</td>\n",
              "      <td>Gold</td>\n",
              "    </tr>\n",
              "    <tr>\n",
              "      <th>9</th>\n",
              "      <td>685</td>\n",
              "      <td>13256</td>\n",
              "      <td>15</td>\n",
              "      <td>1</td>\n",
              "      <td>0.00</td>\n",
              "      <td>2</td>\n",
              "      <td>2</td>\n",
              "      <td>1</td>\n",
              "      <td>5</td>\n",
              "      <td>221</td>\n",
              "      <td>Advanced</td>\n",
              "    </tr>\n",
              "  </tbody>\n",
              "</table>\n",
              "</div>"
            ],
            "text/plain": [
              "   index customerid  recency  frequency  monetary recency_score  \\\n",
              "0   4123      17986       57          1     20.80             3   \n",
              "1   2745      16093      107          1     17.00             4   \n",
              "2    723      13307      121          1     15.00             4   \n",
              "3   2559      15823      373          1     15.00             5   \n",
              "4   3961      17763      264          1     15.00             5   \n",
              "5   3324      16878       85          1     13.30             4   \n",
              "6   4099      17956      250          1     12.75             5   \n",
              "7   1794      14792       64          1      6.20             3   \n",
              "8   3218      16738      298          1      3.75             5   \n",
              "9    685      13256       15          1      0.00             2   \n",
              "\n",
              "  frequency_score monetary_score  RFM_Score RFM_Segmentation   Rank_id  \n",
              "0               2              1          6              321  Advanced  \n",
              "1               2              1          7              421  Advanced  \n",
              "2               2              1          7              421  Advanced  \n",
              "3               2              1          8              521      Gold  \n",
              "4               2              1          8              521      Gold  \n",
              "5               2              1          7              421  Advanced  \n",
              "6               2              1          8              521      Gold  \n",
              "7               2              1          6              321  Advanced  \n",
              "8               2              1          8              521      Gold  \n",
              "9               2              1          5              221  Advanced  "
            ]
          },
          "execution_count": 230,
          "metadata": {},
          "output_type": "execute_result"
        }
      ],
      "source": [
        "rfm['Rank_id'] = rfm['RFM_Score'].apply(rank) \n",
        "rfm.tail(10).reset_index()"
      ]
    },
    {
      "cell_type": "code",
      "execution_count": null,
      "id": "b191a268",
      "metadata": {
        "id": "b191a268",
        "outputId": "355a49b9-7fd8-4427-9a6d-f790faeff91b"
      },
      "outputs": [
        {
          "data": {
            "text/plain": [
              "Gold        3231\n",
              "Advanced    1062\n",
              "Platinum      38\n",
              "Basic          8\n",
              "Name: Rank_id, dtype: int64"
            ]
          },
          "execution_count": 231,
          "metadata": {},
          "output_type": "execute_result"
        }
      ],
      "source": [
        "#Printing each segments category(Rank_id) with counts\n",
        "rfm['Rank_id'].value_counts()"
      ]
    },
    {
      "cell_type": "code",
      "execution_count": null,
      "id": "ab4582be",
      "metadata": {
        "id": "ab4582be"
      },
      "outputs": [],
      "source": [
        "#Using rfm_new dataset\n",
        "rfm_new = rfm_new.drop(['customerid'], axis =1)"
      ]
    },
    {
      "cell_type": "code",
      "execution_count": null,
      "id": "e326f0b2",
      "metadata": {
        "id": "e326f0b2",
        "outputId": "88d117f6-dbcd-42b7-a347-d17dac8e1772"
      },
      "outputs": [
        {
          "data": {
            "text/html": [
              "<div>\n",
              "<style scoped>\n",
              "    .dataframe tbody tr th:only-of-type {\n",
              "        vertical-align: middle;\n",
              "    }\n",
              "\n",
              "    .dataframe tbody tr th {\n",
              "        vertical-align: top;\n",
              "    }\n",
              "\n",
              "    .dataframe thead th {\n",
              "        text-align: right;\n",
              "    }\n",
              "</style>\n",
              "<table border=\"1\" class=\"dataframe\">\n",
              "  <thead>\n",
              "    <tr style=\"text-align: right;\">\n",
              "      <th></th>\n",
              "      <th>recency</th>\n",
              "      <th>frequency</th>\n",
              "      <th>monetary</th>\n",
              "    </tr>\n",
              "  </thead>\n",
              "  <tbody>\n",
              "    <tr>\n",
              "      <th>326</th>\n",
              "      <td>1</td>\n",
              "      <td>210</td>\n",
              "      <td>33719.73</td>\n",
              "    </tr>\n",
              "    <tr>\n",
              "      <th>1880</th>\n",
              "      <td>2</td>\n",
              "      <td>201</td>\n",
              "      <td>143825.06</td>\n",
              "    </tr>\n",
              "    <tr>\n",
              "      <th>4011</th>\n",
              "      <td>2</td>\n",
              "      <td>124</td>\n",
              "      <td>40991.57</td>\n",
              "    </tr>\n",
              "    <tr>\n",
              "      <th>562</th>\n",
              "      <td>3</td>\n",
              "      <td>97</td>\n",
              "      <td>58825.83</td>\n",
              "    </tr>\n",
              "    <tr>\n",
              "      <th>1662</th>\n",
              "      <td>2</td>\n",
              "      <td>93</td>\n",
              "      <td>12156.65</td>\n",
              "    </tr>\n",
              "    <tr>\n",
              "      <th>...</th>\n",
              "      <td>...</td>\n",
              "      <td>...</td>\n",
              "      <td>...</td>\n",
              "    </tr>\n",
              "    <tr>\n",
              "      <th>3324</th>\n",
              "      <td>85</td>\n",
              "      <td>1</td>\n",
              "      <td>13.30</td>\n",
              "    </tr>\n",
              "    <tr>\n",
              "      <th>4099</th>\n",
              "      <td>250</td>\n",
              "      <td>1</td>\n",
              "      <td>12.75</td>\n",
              "    </tr>\n",
              "    <tr>\n",
              "      <th>1794</th>\n",
              "      <td>64</td>\n",
              "      <td>1</td>\n",
              "      <td>6.20</td>\n",
              "    </tr>\n",
              "    <tr>\n",
              "      <th>3218</th>\n",
              "      <td>298</td>\n",
              "      <td>1</td>\n",
              "      <td>3.75</td>\n",
              "    </tr>\n",
              "    <tr>\n",
              "      <th>685</th>\n",
              "      <td>15</td>\n",
              "      <td>1</td>\n",
              "      <td>0.00</td>\n",
              "    </tr>\n",
              "  </tbody>\n",
              "</table>\n",
              "<p>4339 rows × 3 columns</p>\n",
              "</div>"
            ],
            "text/plain": [
              "      recency  frequency   monetary\n",
              "326         1        210   33719.73\n",
              "1880        2        201  143825.06\n",
              "4011        2        124   40991.57\n",
              "562         3         97   58825.83\n",
              "1662        2         93   12156.65\n",
              "...       ...        ...        ...\n",
              "3324       85          1      13.30\n",
              "4099      250          1      12.75\n",
              "1794       64          1       6.20\n",
              "3218      298          1       3.75\n",
              "685        15          1       0.00\n",
              "\n",
              "[4339 rows x 3 columns]"
            ]
          },
          "execution_count": 233,
          "metadata": {},
          "output_type": "execute_result"
        }
      ],
      "source": [
        "rfm_new"
      ]
    },
    {
      "cell_type": "code",
      "execution_count": null,
      "id": "57f18e91",
      "metadata": {
        "id": "57f18e91",
        "outputId": "153fcce3-b2de-498a-f5b7-0e79665f5de3"
      },
      "outputs": [
        {
          "data": {
            "text/plain": [
              "recency      0\n",
              "frequency    0\n",
              "monetary     0\n",
              "dtype: int64"
            ]
          },
          "execution_count": 234,
          "metadata": {},
          "output_type": "execute_result"
        }
      ],
      "source": [
        "rfm_new.dropna(inplace = True)\n",
        "rfm_new.isnull().sum()"
      ]
    },
    {
      "cell_type": "markdown",
      "id": "e119f137",
      "metadata": {
        "id": "e119f137"
      },
      "source": [
        "### Applying K mean on rfm_new having recency, frequency and monetary"
      ]
    },
    {
      "cell_type": "code",
      "execution_count": null,
      "id": "c95fb674",
      "metadata": {
        "id": "c95fb674",
        "outputId": "e88717cb-8648-4427-c56c-7169425ac9c1"
      },
      "outputs": [
        {
          "data": {
            "text/plain": [
              "KMeans(max_iter=50, n_clusters=4)"
            ]
          },
          "execution_count": 235,
          "metadata": {},
          "output_type": "execute_result"
        }
      ],
      "source": [
        "\n",
        "\n",
        "\n",
        "kmeans = KMeans(n_clusters = 4, max_iter = 50)\n",
        "kmeans.fit(rfm_new)"
      ]
    },
    {
      "cell_type": "code",
      "execution_count": null,
      "id": "9cfd3cad",
      "metadata": {
        "id": "9cfd3cad"
      },
      "outputs": [],
      "source": [
        "#kmeans.labels_ ---> labels of each clusters\n",
        "#kmeans.inertia_ -->Sum of squared distances of samples to their closest cluster center, weighted by the sample weights if provided.\n",
        "#kmeans.n_iter_int ---> Number of iterations run.\n",
        "#kmeans.n_features_in_ --> number of features seen during fit."
      ]
    },
    {
      "cell_type": "code",
      "execution_count": null,
      "id": "55b167ad",
      "metadata": {
        "id": "55b167ad",
        "outputId": "d82fec34-6bf2-4434-a451-bcdb6a59582f"
      },
      "outputs": [
        {
          "data": {
            "text/plain": [
              "array([2, 1, 2, ..., 0, 0, 0])"
            ]
          },
          "execution_count": 237,
          "metadata": {},
          "output_type": "execute_result"
        }
      ],
      "source": [
        "kmeans.labels_"
      ]
    },
    {
      "cell_type": "code",
      "execution_count": null,
      "id": "4c783776",
      "metadata": {
        "id": "4c783776",
        "outputId": "2d055798-be3a-442d-a3cd-f5a0bec4b165"
      },
      "outputs": [
        {
          "data": {
            "text/plain": [
              "3"
            ]
          },
          "execution_count": 238,
          "metadata": {},
          "output_type": "execute_result"
        }
      ],
      "source": [
        "kmeans.n_features_in_"
      ]
    },
    {
      "cell_type": "code",
      "execution_count": null,
      "id": "0e76a777",
      "metadata": {
        "id": "0e76a777",
        "outputId": "b230ac34-2227-4474-9eb2-ca38dd190ece"
      },
      "outputs": [
        {
          "data": {
            "text/plain": [
              "[<matplotlib.lines.Line2D at 0x24c4a33ae50>]"
            ]
          },
          "execution_count": 239,
          "metadata": {},
          "output_type": "execute_result"
        },
        {
          "data": {
            "image/png": "[encoded data removed]",
            "text/plain": [
              "<Figure size 432x288 with 1 Axes>"
            ]
          },
          "metadata": {},
          "output_type": "display_data"
        }
      ],
      "source": [
        "ssd = []\n",
        "\n",
        "range_clusters = [2, 3, 4, 5, 6, 7, 8]\n",
        "\n",
        "for num_cluster in range_clusters:\n",
        "    kmeans = KMeans(num_cluster, max_iter = 50)\n",
        "    kmeans.fit(rfm_new)\n",
        "    ssd.append(kmeans.inertia_)\n",
        "ssd\n",
        "\n",
        "#plotting the WCSS with clusters\n",
        "plt.plot(ssd)"
      ]
    },
    {
      "cell_type": "code",
      "execution_count": null,
      "id": "5fa4d7cf",
      "metadata": {
        "id": "5fa4d7cf",
        "outputId": "de9cd407-9b5d-48c1-c2c0-c5641cfd1e12"
      },
      "outputs": [
        {
          "name": "stdout",
          "output_type": "stream",
          "text": [
            "For n_clusters=2, the silhouette score is 0.9844910371693073\n",
            "For n_clusters=3, the silhouette score is 0.958988385219034\n",
            "For n_clusters=4, the silhouette score is 0.9543198507649769\n",
            "For n_clusters=5, the silhouette score is 0.869785681781138\n",
            "For n_clusters=6, the silhouette score is 0.7749401167852138\n",
            "For n_clusters=7, the silhouette score is 0.7310136388199059\n",
            "For n_clusters=8, the silhouette score is 0.7322254847172898\n"
          ]
        }
      ],
      "source": [
        "# Silhouette analysis\n",
        "range_n_clusters = [2, 3, 4, 5, 6, 7, 8]\n",
        "\n",
        "for num_clusters in range_n_clusters:\n",
        "    \n",
        "    # intialise kmeans\n",
        "    kmeans = KMeans(n_clusters=num_clusters, max_iter=50)\n",
        "    kmeans.fit(rfm_new)\n",
        "    \n",
        "    cluster_labels = kmeans.labels_\n",
        "    \n",
        "    # silhouette score\n",
        "    silhouette_avg = silhouette_score(rfm_new, cluster_labels)\n",
        "    print(\"For n_clusters={0}, the silhouette score is {1}\".format(num_clusters, silhouette_avg))"
      ]
    },
    {
      "cell_type": "code",
      "execution_count": null,
      "id": "475a1888",
      "metadata": {
        "id": "475a1888",
        "outputId": "97e6dee6-bb4a-49fd-bb82-f7d1d4236488"
      },
      "outputs": [
        {
          "data": {
            "text/plain": [
              "KMeans(max_iter=50, n_clusters=3)"
            ]
          },
          "execution_count": 241,
          "metadata": {},
          "output_type": "execute_result"
        }
      ],
      "source": [
        "# We will use k = 3 in this case from silhouette score and elbow point method\n",
        "kmeans = KMeans(n_clusters = 3, max_iter = 50)\n",
        "kmeans.fit(rfm_new)"
      ]
    },
    {
      "cell_type": "code",
      "execution_count": null,
      "id": "1f9d5dee",
      "metadata": {
        "id": "1f9d5dee",
        "outputId": "128696e6-b268-47fc-8e10-afe45988708b"
      },
      "outputs": [
        {
          "data": {
            "text/html": [
              "<div>\n",
              "<style scoped>\n",
              "    .dataframe tbody tr th:only-of-type {\n",
              "        vertical-align: middle;\n",
              "    }\n",
              "\n",
              "    .dataframe tbody tr th {\n",
              "        vertical-align: top;\n",
              "    }\n",
              "\n",
              "    .dataframe thead th {\n",
              "        text-align: right;\n",
              "    }\n",
              "</style>\n",
              "<table border=\"1\" class=\"dataframe\">\n",
              "  <thead>\n",
              "    <tr style=\"text-align: right;\">\n",
              "      <th></th>\n",
              "      <th>recency</th>\n",
              "      <th>frequency</th>\n",
              "      <th>monetary</th>\n",
              "      <th>Cluster_Id</th>\n",
              "    </tr>\n",
              "  </thead>\n",
              "  <tbody>\n",
              "    <tr>\n",
              "      <th>326</th>\n",
              "      <td>1</td>\n",
              "      <td>210</td>\n",
              "      <td>33719.73</td>\n",
              "      <td>2</td>\n",
              "    </tr>\n",
              "    <tr>\n",
              "      <th>1880</th>\n",
              "      <td>2</td>\n",
              "      <td>201</td>\n",
              "      <td>143825.06</td>\n",
              "      <td>1</td>\n",
              "    </tr>\n",
              "    <tr>\n",
              "      <th>4011</th>\n",
              "      <td>2</td>\n",
              "      <td>124</td>\n",
              "      <td>40991.57</td>\n",
              "      <td>2</td>\n",
              "    </tr>\n",
              "    <tr>\n",
              "      <th>562</th>\n",
              "      <td>3</td>\n",
              "      <td>97</td>\n",
              "      <td>58825.83</td>\n",
              "      <td>2</td>\n",
              "    </tr>\n",
              "    <tr>\n",
              "      <th>1662</th>\n",
              "      <td>2</td>\n",
              "      <td>93</td>\n",
              "      <td>12156.65</td>\n",
              "      <td>0</td>\n",
              "    </tr>\n",
              "  </tbody>\n",
              "</table>\n",
              "</div>"
            ],
            "text/plain": [
              "      recency  frequency   monetary  Cluster_Id\n",
              "326         1        210   33719.73           2\n",
              "1880        2        201  143825.06           1\n",
              "4011        2        124   40991.57           2\n",
              "562         3         97   58825.83           2\n",
              "1662        2         93   12156.65           0"
            ]
          },
          "execution_count": 242,
          "metadata": {},
          "output_type": "execute_result"
        }
      ],
      "source": [
        "rfm_new['Cluster_Id'] = kmeans.labels_\n",
        "rfm_new.head()"
      ]
    }
  ],
  "metadata": {
    "kernelspec": {
      "display_name": "Python 3 (ipykernel)",
      "language": "python",
      "name": "python3"
    },
    "language_info": {
      "codemirror_mode": {
        "name": "ipython",
        "version": 3
      },
      "file_extension": ".py",
      "mimetype": "text/x-python",
      "name": "python",
      "nbconvert_exporter": "python",
      "pygments_lexer": "ipython3",
      "version": "3.9.7"
    },
    "colab": {
      "provenance": [],
      "include_colab_link": true
    }
  },
  "nbformat": 4,
  "nbformat_minor": 5
}